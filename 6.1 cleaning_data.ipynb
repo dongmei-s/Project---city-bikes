{
 "cells": [
  {
   "cell_type": "markdown",
   "id": "35fd667c",
   "metadata": {},
   "source": [
    "## 1. Import libraries and dataset"
   ]
  },
  {
   "cell_type": "code",
   "execution_count": 1,
   "id": "6811ca92",
   "metadata": {},
   "outputs": [],
   "source": [
    "import numpy as np\n",
    "import pandas as pd\n",
    "import os"
   ]
  },
  {
   "cell_type": "code",
   "execution_count": 2,
   "id": "4f5c7054",
   "metadata": {},
   "outputs": [],
   "source": [
    "fpath = r'C:\\Users\\Mei\\City-Bikes'"
   ]
  },
  {
   "cell_type": "code",
   "execution_count": 3,
   "id": "53f4b59b",
   "metadata": {},
   "outputs": [],
   "source": [
    "df_orin = pd.read_excel(os.path.join(fpath,'original_data','citibike.xlsx'))"
   ]
  },
  {
   "cell_type": "code",
   "execution_count": 4,
   "id": "c9f28611",
   "metadata": {},
   "outputs": [
    {
     "data": {
      "text/html": [
       "<div>\n",
       "<style scoped>\n",
       "    .dataframe tbody tr th:only-of-type {\n",
       "        vertical-align: middle;\n",
       "    }\n",
       "\n",
       "    .dataframe tbody tr th {\n",
       "        vertical-align: top;\n",
       "    }\n",
       "\n",
       "    .dataframe thead th {\n",
       "        text-align: right;\n",
       "    }\n",
       "</style>\n",
       "<table border=\"1\" class=\"dataframe\">\n",
       "  <thead>\n",
       "    <tr style=\"text-align: right;\">\n",
       "      <th></th>\n",
       "      <th>trip_id</th>\n",
       "      <th>bike_id</th>\n",
       "      <th>weekday</th>\n",
       "      <th>start_hour</th>\n",
       "      <th>start_time</th>\n",
       "      <th>start_station_id</th>\n",
       "      <th>start_station_name</th>\n",
       "      <th>start_station_latitude</th>\n",
       "      <th>start_station_longitude</th>\n",
       "      <th>end_time</th>\n",
       "      <th>end_station_id</th>\n",
       "      <th>end_station_name</th>\n",
       "      <th>end_station_latitude</th>\n",
       "      <th>end_station_longitude</th>\n",
       "      <th>trip_duration</th>\n",
       "      <th>subscriber</th>\n",
       "      <th>birth_year</th>\n",
       "      <th>gender</th>\n",
       "    </tr>\n",
       "  </thead>\n",
       "  <tbody>\n",
       "    <tr>\n",
       "      <th>0</th>\n",
       "      <td>LnQzQk</td>\n",
       "      <td>16013</td>\n",
       "      <td>Mon</td>\n",
       "      <td>18</td>\n",
       "      <td>2013-09-09 18:18:55</td>\n",
       "      <td>523</td>\n",
       "      <td>W 38 St &amp; 8 Ave</td>\n",
       "      <td>40.754666</td>\n",
       "      <td>-73.991382</td>\n",
       "      <td>2013-09-09 18:35:28</td>\n",
       "      <td>334</td>\n",
       "      <td>W 20 St &amp; 7 Ave</td>\n",
       "      <td>40.742388</td>\n",
       "      <td>-73.997262</td>\n",
       "      <td>993</td>\n",
       "      <td>Subscriber</td>\n",
       "      <td>1968.0</td>\n",
       "      <td>2</td>\n",
       "    </tr>\n",
       "    <tr>\n",
       "      <th>1</th>\n",
       "      <td>IL9boN</td>\n",
       "      <td>15230</td>\n",
       "      <td>Thu</td>\n",
       "      <td>18</td>\n",
       "      <td>2013-09-12 18:38:53</td>\n",
       "      <td>257</td>\n",
       "      <td>Lispenard St &amp; Broadway</td>\n",
       "      <td>40.719392</td>\n",
       "      <td>-74.002472</td>\n",
       "      <td>2013-09-12 18:48:34</td>\n",
       "      <td>236</td>\n",
       "      <td>St Marks Pl &amp; 2 Ave</td>\n",
       "      <td>40.728419</td>\n",
       "      <td>-73.987140</td>\n",
       "      <td>581</td>\n",
       "      <td>Subscriber</td>\n",
       "      <td>1983.0</td>\n",
       "      <td>1</td>\n",
       "    </tr>\n",
       "    <tr>\n",
       "      <th>2</th>\n",
       "      <td>46clGB</td>\n",
       "      <td>17942</td>\n",
       "      <td>Wed</td>\n",
       "      <td>19</td>\n",
       "      <td>2013-09-18 19:44:04</td>\n",
       "      <td>479</td>\n",
       "      <td>9 Ave &amp; W 45 St</td>\n",
       "      <td>40.760193</td>\n",
       "      <td>-73.991255</td>\n",
       "      <td>2013-09-18 19:50:05</td>\n",
       "      <td>513</td>\n",
       "      <td>W 56 St &amp; 10 Ave</td>\n",
       "      <td>40.768254</td>\n",
       "      <td>-73.988639</td>\n",
       "      <td>361</td>\n",
       "      <td>Subscriber</td>\n",
       "      <td>1989.0</td>\n",
       "      <td>1</td>\n",
       "    </tr>\n",
       "    <tr>\n",
       "      <th>3</th>\n",
       "      <td>v7vdFt</td>\n",
       "      <td>19683</td>\n",
       "      <td>Sat</td>\n",
       "      <td>11</td>\n",
       "      <td>2013-09-28 11:54:37</td>\n",
       "      <td>527</td>\n",
       "      <td>E 33 St &amp; 1 Ave</td>\n",
       "      <td>40.743156</td>\n",
       "      <td>-73.974347</td>\n",
       "      <td>2013-09-28 12:03:58</td>\n",
       "      <td>441</td>\n",
       "      <td>E 52 St &amp; 2 Ave</td>\n",
       "      <td>40.756014</td>\n",
       "      <td>-73.967416</td>\n",
       "      <td>561</td>\n",
       "      <td>Subscriber</td>\n",
       "      <td>1988.0</td>\n",
       "      <td>2</td>\n",
       "    </tr>\n",
       "    <tr>\n",
       "      <th>4</th>\n",
       "      <td>VGBsb5</td>\n",
       "      <td>18024</td>\n",
       "      <td>Sat</td>\n",
       "      <td>18</td>\n",
       "      <td>2013-09-07 18:08:22</td>\n",
       "      <td>521</td>\n",
       "      <td>8 Ave &amp; W 31 St</td>\n",
       "      <td>40.750450</td>\n",
       "      <td>-73.994811</td>\n",
       "      <td>2013-09-07 18:46:38</td>\n",
       "      <td>476</td>\n",
       "      <td>E 31 St &amp; 3 Ave</td>\n",
       "      <td>40.743943</td>\n",
       "      <td>-73.979661</td>\n",
       "      <td>2296</td>\n",
       "      <td>Non-Subscriber</td>\n",
       "      <td>NaN</td>\n",
       "      <td>0</td>\n",
       "    </tr>\n",
       "  </tbody>\n",
       "</table>\n",
       "</div>"
      ],
      "text/plain": [
       "  trip_id  bike_id weekday  start_hour          start_time  start_station_id  \\\n",
       "0  LnQzQk    16013     Mon          18 2013-09-09 18:18:55               523   \n",
       "1  IL9boN    15230     Thu          18 2013-09-12 18:38:53               257   \n",
       "2  46clGB    17942     Wed          19 2013-09-18 19:44:04               479   \n",
       "3  v7vdFt    19683     Sat          11 2013-09-28 11:54:37               527   \n",
       "4  VGBsb5    18024     Sat          18 2013-09-07 18:08:22               521   \n",
       "\n",
       "        start_station_name  start_station_latitude  start_station_longitude  \\\n",
       "0          W 38 St & 8 Ave               40.754666               -73.991382   \n",
       "1  Lispenard St & Broadway               40.719392               -74.002472   \n",
       "2          9 Ave & W 45 St               40.760193               -73.991255   \n",
       "3          E 33 St & 1 Ave               40.743156               -73.974347   \n",
       "4          8 Ave & W 31 St               40.750450               -73.994811   \n",
       "\n",
       "             end_time  end_station_id     end_station_name  \\\n",
       "0 2013-09-09 18:35:28             334      W 20 St & 7 Ave   \n",
       "1 2013-09-12 18:48:34             236  St Marks Pl & 2 Ave   \n",
       "2 2013-09-18 19:50:05             513     W 56 St & 10 Ave   \n",
       "3 2013-09-28 12:03:58             441      E 52 St & 2 Ave   \n",
       "4 2013-09-07 18:46:38             476      E 31 St & 3 Ave   \n",
       "\n",
       "   end_station_latitude  end_station_longitude  trip_duration      subscriber  \\\n",
       "0             40.742388             -73.997262            993      Subscriber   \n",
       "1             40.728419             -73.987140            581      Subscriber   \n",
       "2             40.768254             -73.988639            361      Subscriber   \n",
       "3             40.756014             -73.967416            561      Subscriber   \n",
       "4             40.743943             -73.979661           2296  Non-Subscriber   \n",
       "\n",
       "   birth_year  gender  \n",
       "0      1968.0       2  \n",
       "1      1983.0       1  \n",
       "2      1989.0       1  \n",
       "3      1988.0       2  \n",
       "4         NaN       0  "
      ]
     },
     "execution_count": 4,
     "metadata": {},
     "output_type": "execute_result"
    }
   ],
   "source": [
    "df_orin.head(5)"
   ]
  },
  {
   "cell_type": "code",
   "execution_count": 5,
   "id": "77517ce5",
   "metadata": {},
   "outputs": [
    {
     "name": "stdout",
     "output_type": "stream",
     "text": [
      "<class 'pandas.core.frame.DataFrame'>\n",
      "RangeIndex: 50000 entries, 0 to 49999\n",
      "Data columns (total 18 columns):\n",
      " #   Column                   Non-Null Count  Dtype         \n",
      "---  ------                   --------------  -----         \n",
      " 0   trip_id                  50000 non-null  object        \n",
      " 1   bike_id                  50000 non-null  int64         \n",
      " 2   weekday                  50000 non-null  object        \n",
      " 3   start_hour               50000 non-null  int64         \n",
      " 4   start_time               50000 non-null  datetime64[ns]\n",
      " 5   start_station_id         50000 non-null  int64         \n",
      " 6   start_station_name       50000 non-null  object        \n",
      " 7   start_station_latitude   50000 non-null  float64       \n",
      " 8   start_station_longitude  50000 non-null  float64       \n",
      " 9   end_time                 50000 non-null  datetime64[ns]\n",
      " 10  end_station_id           50000 non-null  int64         \n",
      " 11  end_station_name         50000 non-null  object        \n",
      " 12  end_station_latitude     50000 non-null  float64       \n",
      " 13  end_station_longitude    50000 non-null  float64       \n",
      " 14  trip_duration            50000 non-null  int64         \n",
      " 15  subscriber               50000 non-null  object        \n",
      " 16  birth_year               43021 non-null  float64       \n",
      " 17  gender                   50000 non-null  int64         \n",
      "dtypes: datetime64[ns](2), float64(5), int64(6), object(5)\n",
      "memory usage: 6.9+ MB\n"
     ]
    }
   ],
   "source": [
    "df_orin.info()"
   ]
  },
  {
   "cell_type": "markdown",
   "id": "303f9d5b",
   "metadata": {},
   "source": [
    "## 2. Data wrapping"
   ]
  },
  {
   "cell_type": "code",
   "execution_count": 6,
   "id": "10a7b8bd",
   "metadata": {},
   "outputs": [],
   "source": [
    "df_orin['bike_id'] = df_orin['bike_id'].astype('str')"
   ]
  },
  {
   "cell_type": "code",
   "execution_count": 7,
   "id": "03d65e99",
   "metadata": {},
   "outputs": [],
   "source": [
    "df_orin['start_station_id'] = df_orin['start_station_id'].astype('str')"
   ]
  },
  {
   "cell_type": "code",
   "execution_count": 8,
   "id": "054902e3",
   "metadata": {},
   "outputs": [],
   "source": [
    "df_orin['end_station_id'] = df_orin['end_station_id'].astype('str')"
   ]
  },
  {
   "cell_type": "code",
   "execution_count": 9,
   "id": "f5db2a43",
   "metadata": {},
   "outputs": [],
   "source": [
    "df_orin['gender'] = df_orin['gender'].astype('str')"
   ]
  },
  {
   "cell_type": "markdown",
   "id": "41a423b7",
   "metadata": {},
   "source": [
    "## 3. Data cleaning"
   ]
  },
  {
   "cell_type": "markdown",
   "id": "d392e5ff",
   "metadata": {},
   "source": [
    "### 3.1 Mixed type check"
   ]
  },
  {
   "cell_type": "code",
   "execution_count": 10,
   "id": "22529e1e",
   "metadata": {},
   "outputs": [
    {
     "name": "stdout",
     "output_type": "stream",
     "text": [
      "0        False\n",
      "1        False\n",
      "2        False\n",
      "3        False\n",
      "4        False\n",
      "         ...  \n",
      "49995    False\n",
      "49996    False\n",
      "49997    False\n",
      "49998    False\n",
      "49999    False\n",
      "Length: 50000, dtype: bool\n"
     ]
    }
   ],
   "source": [
    "for col in df_orin.columns.tolist():\n",
    "    ck = (df_orin[[col]].applymap(type) != df_orin[[col]].iloc[0].apply(type)).any(axis = 1)\n",
    "    if len(df_orin[ck]) >0 :\n",
    "        print(ck)"
   ]
  },
  {
   "cell_type": "markdown",
   "id": "4b123209",
   "metadata": {},
   "source": [
    "#### No mixed tpyes of data exsiting "
   ]
  },
  {
   "cell_type": "markdown",
   "id": "82c708c6",
   "metadata": {},
   "source": [
    "### 3.2 Missing records check"
   ]
  },
  {
   "cell_type": "code",
   "execution_count": 11,
   "id": "bbc77129",
   "metadata": {},
   "outputs": [],
   "source": [
    "df_orin_nan = df_orin.isnull().sum()"
   ]
  },
  {
   "cell_type": "code",
   "execution_count": 12,
   "id": "54fd559a",
   "metadata": {},
   "outputs": [
    {
     "data": {
      "text/plain": [
       "trip_id                       0\n",
       "bike_id                       0\n",
       "weekday                       0\n",
       "start_hour                    0\n",
       "start_time                    0\n",
       "start_station_id              0\n",
       "start_station_name            0\n",
       "start_station_latitude        0\n",
       "start_station_longitude       0\n",
       "end_time                      0\n",
       "end_station_id                0\n",
       "end_station_name              0\n",
       "end_station_latitude          0\n",
       "end_station_longitude         0\n",
       "trip_duration                 0\n",
       "subscriber                    0\n",
       "birth_year                 6979\n",
       "gender                        0\n",
       "dtype: int64"
      ]
     },
     "execution_count": 12,
     "metadata": {},
     "output_type": "execute_result"
    }
   ],
   "source": [
    "df_orin_nan"
   ]
  },
  {
   "cell_type": "markdown",
   "id": "e21132bd",
   "metadata": {},
   "source": [
    "#### 1) There are about 14% missing data for variable 'birth_year'.\n",
    "#### 2) Solution: considering that those missing data are more than 14% and with the string types, I will keep all these NAN records. "
   ]
  },
  {
   "cell_type": "markdown",
   "id": "7db24d7b",
   "metadata": {},
   "source": [
    "### 3.3 Duplicates check"
   ]
  },
  {
   "cell_type": "code",
   "execution_count": 13,
   "id": "4122d8c5",
   "metadata": {},
   "outputs": [],
   "source": [
    "df_duplicate = df_orin[df_orin.duplicated()]"
   ]
  },
  {
   "cell_type": "code",
   "execution_count": 14,
   "id": "20b0e436",
   "metadata": {},
   "outputs": [
    {
     "data": {
      "text/html": [
       "<div>\n",
       "<style scoped>\n",
       "    .dataframe tbody tr th:only-of-type {\n",
       "        vertical-align: middle;\n",
       "    }\n",
       "\n",
       "    .dataframe tbody tr th {\n",
       "        vertical-align: top;\n",
       "    }\n",
       "\n",
       "    .dataframe thead th {\n",
       "        text-align: right;\n",
       "    }\n",
       "</style>\n",
       "<table border=\"1\" class=\"dataframe\">\n",
       "  <thead>\n",
       "    <tr style=\"text-align: right;\">\n",
       "      <th></th>\n",
       "      <th>trip_id</th>\n",
       "      <th>bike_id</th>\n",
       "      <th>weekday</th>\n",
       "      <th>start_hour</th>\n",
       "      <th>start_time</th>\n",
       "      <th>start_station_id</th>\n",
       "      <th>start_station_name</th>\n",
       "      <th>start_station_latitude</th>\n",
       "      <th>start_station_longitude</th>\n",
       "      <th>end_time</th>\n",
       "      <th>end_station_id</th>\n",
       "      <th>end_station_name</th>\n",
       "      <th>end_station_latitude</th>\n",
       "      <th>end_station_longitude</th>\n",
       "      <th>trip_duration</th>\n",
       "      <th>subscriber</th>\n",
       "      <th>birth_year</th>\n",
       "      <th>gender</th>\n",
       "    </tr>\n",
       "  </thead>\n",
       "  <tbody>\n",
       "  </tbody>\n",
       "</table>\n",
       "</div>"
      ],
      "text/plain": [
       "Empty DataFrame\n",
       "Columns: [trip_id, bike_id, weekday, start_hour, start_time, start_station_id, start_station_name, start_station_latitude, start_station_longitude, end_time, end_station_id, end_station_name, end_station_latitude, end_station_longitude, trip_duration, subscriber, birth_year, gender]\n",
       "Index: []"
      ]
     },
     "execution_count": 14,
     "metadata": {},
     "output_type": "execute_result"
    }
   ],
   "source": [
    "df_duplicate"
   ]
  },
  {
   "cell_type": "markdown",
   "id": "acc8c071",
   "metadata": {},
   "source": [
    "#### No duplicates exsiting "
   ]
  },
  {
   "cell_type": "markdown",
   "id": "f8442268",
   "metadata": {},
   "source": [
    "### Export the cleaned dataset"
   ]
  },
  {
   "cell_type": "code",
   "execution_count": 16,
   "id": "6335fec7",
   "metadata": {},
   "outputs": [],
   "source": [
    "df_orin.to_pickle(os.path.join(fpath,'clean_data','citibike_clean_1.pkl'))"
   ]
  },
  {
   "cell_type": "code",
   "execution_count": null,
   "id": "6681c9b7",
   "metadata": {},
   "outputs": [],
   "source": []
  }
 ],
 "metadata": {
  "kernelspec": {
   "display_name": "Python 3 (ipykernel)",
   "language": "python",
   "name": "python3"
  },
  "language_info": {
   "codemirror_mode": {
    "name": "ipython",
    "version": 3
   },
   "file_extension": ".py",
   "mimetype": "text/x-python",
   "name": "python",
   "nbconvert_exporter": "python",
   "pygments_lexer": "ipython3",
   "version": "3.9.13"
  }
 },
 "nbformat": 4,
 "nbformat_minor": 5
}
