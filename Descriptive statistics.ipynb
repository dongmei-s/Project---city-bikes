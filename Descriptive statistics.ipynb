{
 "cells": [
  {
   "cell_type": "markdown",
   "id": "ca96acd5",
   "metadata": {},
   "source": [
    "## Descriptive statistics"
   ]
  },
  {
   "cell_type": "markdown",
   "id": "95f9b914",
   "metadata": {},
   "source": [
    "### 1. Import clean data set"
   ]
  },
  {
   "cell_type": "code",
   "execution_count": 1,
   "id": "02bc7d80",
   "metadata": {},
   "outputs": [],
   "source": [
    "import numpy as np\n",
    "import pandas as pd\n",
    "import os\n",
    "import matplotlib as plt\n",
    "import seaborn as sn\n",
    "import scipy as sp"
   ]
  },
  {
   "cell_type": "code",
   "execution_count": 2,
   "id": "bb0bece8",
   "metadata": {},
   "outputs": [],
   "source": [
    "fpath = r'C:\\Users\\Mei\\City-Bikes'"
   ]
  },
  {
   "cell_type": "code",
   "execution_count": 3,
   "id": "95530faa",
   "metadata": {},
   "outputs": [],
   "source": [
    "df_clean1 = pd.read_pickle(os.path.join(fpath,'clean_data','citibike_clean_1.pkl'))"
   ]
  },
  {
   "cell_type": "code",
   "execution_count": 4,
   "id": "0b653e6f",
   "metadata": {},
   "outputs": [
    {
     "name": "stdout",
     "output_type": "stream",
     "text": [
      "<class 'pandas.core.frame.DataFrame'>\n",
      "RangeIndex: 50000 entries, 0 to 49999\n",
      "Data columns (total 18 columns):\n",
      " #   Column                   Non-Null Count  Dtype         \n",
      "---  ------                   --------------  -----         \n",
      " 0   trip_id                  50000 non-null  object        \n",
      " 1   bike_id                  50000 non-null  object        \n",
      " 2   weekday                  50000 non-null  object        \n",
      " 3   start_hour               50000 non-null  int64         \n",
      " 4   start_time               50000 non-null  datetime64[ns]\n",
      " 5   start_station_id         50000 non-null  object        \n",
      " 6   start_station_name       50000 non-null  object        \n",
      " 7   start_station_latitude   50000 non-null  float64       \n",
      " 8   start_station_longitude  50000 non-null  float64       \n",
      " 9   end_time                 50000 non-null  datetime64[ns]\n",
      " 10  end_station_id           50000 non-null  object        \n",
      " 11  end_station_name         50000 non-null  object        \n",
      " 12  end_station_latitude     50000 non-null  float64       \n",
      " 13  end_station_longitude    50000 non-null  float64       \n",
      " 14  trip_duration            50000 non-null  int64         \n",
      " 15  subscriber               50000 non-null  object        \n",
      " 16  birth_year               43021 non-null  float64       \n",
      " 17  gender                   50000 non-null  object        \n",
      "dtypes: datetime64[ns](2), float64(5), int64(2), object(9)\n",
      "memory usage: 6.9+ MB\n"
     ]
    }
   ],
   "source": [
    "df_clean1.info()"
   ]
  },
  {
   "cell_type": "markdown",
   "id": "d34798ad",
   "metadata": {},
   "source": [
    "## 2. Consistency further check \n",
    "### Count values of each qualitative variable"
   ]
  },
  {
   "cell_type": "code",
   "execution_count": 5,
   "id": "281b1fec",
   "metadata": {},
   "outputs": [
    {
     "data": {
      "text/plain": [
       "1    32361\n",
       "2    10658\n",
       "0     6981\n",
       "Name: gender, dtype: int64"
      ]
     },
     "execution_count": 5,
     "metadata": {},
     "output_type": "execute_result"
    }
   ],
   "source": [
    "df_clean1['gender'].value_counts()"
   ]
  },
  {
   "cell_type": "code",
   "execution_count": 6,
   "id": "a09afd08",
   "metadata": {},
   "outputs": [
    {
     "data": {
      "text/plain": [
       "1985.0    1837\n",
       "1981.0    1830\n",
       "1982.0    1810\n",
       "1984.0    1798\n",
       "1983.0    1785\n",
       "          ... \n",
       "1929.0       1\n",
       "1917.0       1\n",
       "1926.0       1\n",
       "1924.0       1\n",
       "1921.0       1\n",
       "Name: birth_year, Length: 76, dtype: int64"
      ]
     },
     "execution_count": 6,
     "metadata": {},
     "output_type": "execute_result"
    }
   ],
   "source": [
    "df_clean1['birth_year'].value_counts()"
   ]
  },
  {
   "cell_type": "code",
   "execution_count": 7,
   "id": "39452d41",
   "metadata": {},
   "outputs": [
    {
     "data": {
      "text/plain": [
       "Mon    7715\n",
       "Sun    7319\n",
       "Fri    7309\n",
       "Wed    7228\n",
       "Tue    7065\n",
       "Thu    6857\n",
       "Sat    6507\n",
       "Name: weekday, dtype: int64"
      ]
     },
     "execution_count": 7,
     "metadata": {},
     "output_type": "execute_result"
    }
   ],
   "source": [
    "df_clean1['weekday'].value_counts()"
   ]
  },
  {
   "cell_type": "code",
   "execution_count": 8,
   "id": "c460be50",
   "metadata": {},
   "outputs": [
    {
     "data": {
      "text/plain": [
       "LnQzQk    1\n",
       "Yo1xlq    1\n",
       "8WSVPz    1\n",
       "weSDiK    1\n",
       "dTLGBn    1\n",
       "         ..\n",
       "ZM2cqW    1\n",
       "8eSnBi    1\n",
       "sF86jK    1\n",
       "Mm44Sa    1\n",
       "4ZmicF    1\n",
       "Name: trip_id, Length: 50000, dtype: int64"
      ]
     },
     "execution_count": 8,
     "metadata": {},
     "output_type": "execute_result"
    }
   ],
   "source": [
    "df_clean1['trip_id'].value_counts()"
   ]
  },
  {
   "cell_type": "code",
   "execution_count": 9,
   "id": "f0b1afc8",
   "metadata": {},
   "outputs": [
    {
     "data": {
      "text/plain": [
       "16188    93\n",
       "20118    91\n",
       "18278    90\n",
       "19755    85\n",
       "17796    85\n",
       "         ..\n",
       "14733     5\n",
       "18603     4\n",
       "16964     3\n",
       "15220     2\n",
       "19465     2\n",
       "Name: bike_id, Length: 996, dtype: int64"
      ]
     },
     "execution_count": 9,
     "metadata": {},
     "output_type": "execute_result"
    }
   ],
   "source": [
    "df_clean1['bike_id'].value_counts()"
   ]
  },
  {
   "cell_type": "code",
   "execution_count": 10,
   "id": "0b70453d",
   "metadata": {},
   "outputs": [
    {
     "data": {
      "text/plain": [
       "40.737050    572\n",
       "40.746745    525\n",
       "40.717548    470\n",
       "40.750450    439\n",
       "40.730287    430\n",
       "            ... \n",
       "40.696089     10\n",
       "40.684568      9\n",
       "40.698921      7\n",
       "40.694528      7\n",
       "40.705312      6\n",
       "Name: end_station_latitude, Length: 330, dtype: int64"
      ]
     },
     "execution_count": 10,
     "metadata": {},
     "output_type": "execute_result"
    }
   ],
   "source": [
    "df_clean1['end_station_latitude'].value_counts()"
   ]
  },
  {
   "cell_type": "markdown",
   "id": "9a8c537c",
   "metadata": {},
   "source": [
    "### No inconsistencies are found regarding the expressions for each qualitative variable"
   ]
  },
  {
   "cell_type": "markdown",
   "id": "e72692b6",
   "metadata": {},
   "source": [
    "## 3. Descriptive statistics"
   ]
  },
  {
   "cell_type": "markdown",
   "id": "4623cff2",
   "metadata": {},
   "source": [
    "### 3.1 General statistics of all the quantitative variables"
   ]
  },
  {
   "cell_type": "code",
   "execution_count": 11,
   "id": "0febbd7a",
   "metadata": {
    "scrolled": true
   },
   "outputs": [
    {
     "data": {
      "text/html": [
       "<div>\n",
       "<style scoped>\n",
       "    .dataframe tbody tr th:only-of-type {\n",
       "        vertical-align: middle;\n",
       "    }\n",
       "\n",
       "    .dataframe tbody tr th {\n",
       "        vertical-align: top;\n",
       "    }\n",
       "\n",
       "    .dataframe thead th {\n",
       "        text-align: right;\n",
       "    }\n",
       "</style>\n",
       "<table border=\"1\" class=\"dataframe\">\n",
       "  <thead>\n",
       "    <tr style=\"text-align: right;\">\n",
       "      <th></th>\n",
       "      <th>start_hour</th>\n",
       "      <th>start_station_latitude</th>\n",
       "      <th>start_station_longitude</th>\n",
       "      <th>end_station_latitude</th>\n",
       "      <th>end_station_longitude</th>\n",
       "      <th>trip_duration</th>\n",
       "      <th>birth_year</th>\n",
       "    </tr>\n",
       "  </thead>\n",
       "  <tbody>\n",
       "    <tr>\n",
       "      <th>count</th>\n",
       "      <td>50000.000000</td>\n",
       "      <td>50000.000000</td>\n",
       "      <td>50000.000000</td>\n",
       "      <td>50000.000000</td>\n",
       "      <td>50000.000000</td>\n",
       "      <td>50000.000000</td>\n",
       "      <td>43021.000000</td>\n",
       "    </tr>\n",
       "    <tr>\n",
       "      <th>mean</th>\n",
       "      <td>14.145240</td>\n",
       "      <td>40.734170</td>\n",
       "      <td>-73.991109</td>\n",
       "      <td>40.733859</td>\n",
       "      <td>-73.991351</td>\n",
       "      <td>838.982900</td>\n",
       "      <td>1975.627786</td>\n",
       "    </tr>\n",
       "    <tr>\n",
       "      <th>std</th>\n",
       "      <td>4.860541</td>\n",
       "      <td>0.019911</td>\n",
       "      <td>0.012555</td>\n",
       "      <td>0.019885</td>\n",
       "      <td>0.012569</td>\n",
       "      <td>573.663997</td>\n",
       "      <td>11.089001</td>\n",
       "    </tr>\n",
       "    <tr>\n",
       "      <th>min</th>\n",
       "      <td>0.000000</td>\n",
       "      <td>40.680342</td>\n",
       "      <td>-74.017134</td>\n",
       "      <td>40.680342</td>\n",
       "      <td>-74.017134</td>\n",
       "      <td>60.000000</td>\n",
       "      <td>1899.000000</td>\n",
       "    </tr>\n",
       "    <tr>\n",
       "      <th>25%</th>\n",
       "      <td>10.000000</td>\n",
       "      <td>40.720196</td>\n",
       "      <td>-74.000271</td>\n",
       "      <td>40.720196</td>\n",
       "      <td>-74.001547</td>\n",
       "      <td>417.000000</td>\n",
       "      <td>1968.000000</td>\n",
       "    </tr>\n",
       "    <tr>\n",
       "      <th>50%</th>\n",
       "      <td>15.000000</td>\n",
       "      <td>40.735877</td>\n",
       "      <td>-73.990765</td>\n",
       "      <td>40.735354</td>\n",
       "      <td>-73.991218</td>\n",
       "      <td>672.000000</td>\n",
       "      <td>1978.000000</td>\n",
       "    </tr>\n",
       "    <tr>\n",
       "      <th>75%</th>\n",
       "      <td>18.000000</td>\n",
       "      <td>40.750020</td>\n",
       "      <td>-73.981923</td>\n",
       "      <td>40.749013</td>\n",
       "      <td>-73.982050</td>\n",
       "      <td>1112.000000</td>\n",
       "      <td>1984.000000</td>\n",
       "    </tr>\n",
       "    <tr>\n",
       "      <th>max</th>\n",
       "      <td>23.000000</td>\n",
       "      <td>40.770513</td>\n",
       "      <td>-73.950048</td>\n",
       "      <td>40.770513</td>\n",
       "      <td>-73.950048</td>\n",
       "      <td>2697.000000</td>\n",
       "      <td>1997.000000</td>\n",
       "    </tr>\n",
       "  </tbody>\n",
       "</table>\n",
       "</div>"
      ],
      "text/plain": [
       "         start_hour  start_station_latitude  start_station_longitude  \\\n",
       "count  50000.000000            50000.000000             50000.000000   \n",
       "mean      14.145240               40.734170               -73.991109   \n",
       "std        4.860541                0.019911                 0.012555   \n",
       "min        0.000000               40.680342               -74.017134   \n",
       "25%       10.000000               40.720196               -74.000271   \n",
       "50%       15.000000               40.735877               -73.990765   \n",
       "75%       18.000000               40.750020               -73.981923   \n",
       "max       23.000000               40.770513               -73.950048   \n",
       "\n",
       "       end_station_latitude  end_station_longitude  trip_duration  \\\n",
       "count          50000.000000           50000.000000   50000.000000   \n",
       "mean              40.733859             -73.991351     838.982900   \n",
       "std                0.019885               0.012569     573.663997   \n",
       "min               40.680342             -74.017134      60.000000   \n",
       "25%               40.720196             -74.001547     417.000000   \n",
       "50%               40.735354             -73.991218     672.000000   \n",
       "75%               40.749013             -73.982050    1112.000000   \n",
       "max               40.770513             -73.950048    2697.000000   \n",
       "\n",
       "         birth_year  \n",
       "count  43021.000000  \n",
       "mean    1975.627786  \n",
       "std       11.089001  \n",
       "min     1899.000000  \n",
       "25%     1968.000000  \n",
       "50%     1978.000000  \n",
       "75%     1984.000000  \n",
       "max     1997.000000  "
      ]
     },
     "execution_count": 11,
     "metadata": {},
     "output_type": "execute_result"
    }
   ],
   "source": [
    "df_clean1.describe()"
   ]
  },
  {
   "cell_type": "markdown",
   "id": "aa484c51",
   "metadata": {},
   "source": [
    "### 3.2 Freuency study of relevant variables "
   ]
  },
  {
   "cell_type": "code",
   "execution_count": 12,
   "id": "ca168d50",
   "metadata": {},
   "outputs": [],
   "source": [
    "count_starthour = df_clean1.groupby(['start_hour'])['start_hour'].count()"
   ]
  },
  {
   "cell_type": "code",
   "execution_count": 13,
   "id": "281076da",
   "metadata": {},
   "outputs": [
    {
     "data": {
      "text/plain": [
       "<AxesSubplot:xlabel='start_hour'>"
      ]
     },
     "execution_count": 13,
     "metadata": {},
     "output_type": "execute_result"
    },
    {
     "data": {
      "image/png": "[encoded data removed]",
      "text/plain": [
       "<Figure size 640x480 with 1 Axes>"
      ]
     },
     "metadata": {},
     "output_type": "display_data"
    }
   ],
   "source": [
    "count_starthour.plot.bar()"
   ]
  },
  {
   "cell_type": "code",
   "execution_count": 14,
   "id": "b9544845",
   "metadata": {},
   "outputs": [
    {
     "data": {
      "text/plain": [
       "<AxesSubplot:xlabel='weekday'>"
      ]
     },
     "execution_count": 14,
     "metadata": {},
     "output_type": "execute_result"
    },
    {
     "data": {
      "image/png": "[encoded data removed]",
      "text/plain": [
       "<Figure size 640x480 with 1 Axes>"
      ]
     },
     "metadata": {},
     "output_type": "display_data"
    }
   ],
   "source": [
    "count_weekday = df_clean1.groupby(['weekday'])['weekday'].count()\n",
    "count_weekday.plot.bar()"
   ]
  },
  {
   "cell_type": "code",
   "execution_count": 15,
   "id": "94f2254c",
   "metadata": {},
   "outputs": [
    {
     "data": {
      "text/plain": [
       "<AxesSubplot:xlabel='gender'>"
      ]
     },
     "execution_count": 15,
     "metadata": {},
     "output_type": "execute_result"
    },
    {
     "data": {
      "image/png": "[encoded data removed]",
      "text/plain": [
       "<Figure size 640x480 with 1 Axes>"
      ]
     },
     "metadata": {},
     "output_type": "display_data"
    }
   ],
   "source": [
    "count_gender = df_clean1.groupby(['gender'])['gender'].count()\n",
    "count_gender.plot.bar()"
   ]
  },
  {
   "cell_type": "code",
   "execution_count": 16,
   "id": "26677f89",
   "metadata": {},
   "outputs": [],
   "source": [
    "df_nonnull = df_clean1.dropna()"
   ]
  },
  {
   "cell_type": "code",
   "execution_count": 17,
   "id": "b3280630",
   "metadata": {},
   "outputs": [
    {
     "name": "stderr",
     "output_type": "stream",
     "text": [
      "C:\\Users\\Mei\\AppData\\Local\\Temp\\ipykernel_7032\\1669921750.py:1: SettingWithCopyWarning: \n",
      "A value is trying to be set on a copy of a slice from a DataFrame.\n",
      "Try using .loc[row_indexer,col_indexer] = value instead\n",
      "\n",
      "See the caveats in the documentation: https://pandas.pydata.org/pandas-docs/stable/user_guide/indexing.html#returning-a-view-versus-a-copy\n",
      "  df_nonnull['birth_year'] = df_nonnull['birth_year'].astype(int)\n"
     ]
    }
   ],
   "source": [
    "df_nonnull['birth_year'] = df_nonnull['birth_year'].astype(int)"
   ]
  },
  {
   "cell_type": "code",
   "execution_count": 18,
   "id": "eaf03687",
   "metadata": {},
   "outputs": [
    {
     "data": {
      "text/html": [
       "<div>\n",
       "<style scoped>\n",
       "    .dataframe tbody tr th:only-of-type {\n",
       "        vertical-align: middle;\n",
       "    }\n",
       "\n",
       "    .dataframe tbody tr th {\n",
       "        vertical-align: top;\n",
       "    }\n",
       "\n",
       "    .dataframe thead th {\n",
       "        text-align: right;\n",
       "    }\n",
       "</style>\n",
       "<table border=\"1\" class=\"dataframe\">\n",
       "  <thead>\n",
       "    <tr style=\"text-align: right;\">\n",
       "      <th></th>\n",
       "      <th>trip_id</th>\n",
       "      <th>bike_id</th>\n",
       "      <th>weekday</th>\n",
       "      <th>start_hour</th>\n",
       "      <th>start_time</th>\n",
       "      <th>start_station_id</th>\n",
       "      <th>start_station_name</th>\n",
       "      <th>start_station_latitude</th>\n",
       "      <th>start_station_longitude</th>\n",
       "      <th>end_time</th>\n",
       "      <th>end_station_id</th>\n",
       "      <th>end_station_name</th>\n",
       "      <th>end_station_latitude</th>\n",
       "      <th>end_station_longitude</th>\n",
       "      <th>trip_duration</th>\n",
       "      <th>subscriber</th>\n",
       "      <th>birth_year</th>\n",
       "      <th>gender</th>\n",
       "    </tr>\n",
       "  </thead>\n",
       "  <tbody>\n",
       "    <tr>\n",
       "      <th>0</th>\n",
       "      <td>LnQzQk</td>\n",
       "      <td>16013</td>\n",
       "      <td>Mon</td>\n",
       "      <td>18</td>\n",
       "      <td>2013-09-09 18:18:55</td>\n",
       "      <td>523</td>\n",
       "      <td>W 38 St &amp; 8 Ave</td>\n",
       "      <td>40.754666</td>\n",
       "      <td>-73.991382</td>\n",
       "      <td>2013-09-09 18:35:28</td>\n",
       "      <td>334</td>\n",
       "      <td>W 20 St &amp; 7 Ave</td>\n",
       "      <td>40.742388</td>\n",
       "      <td>-73.997262</td>\n",
       "      <td>993</td>\n",
       "      <td>Subscriber</td>\n",
       "      <td>1968</td>\n",
       "      <td>2</td>\n",
       "    </tr>\n",
       "    <tr>\n",
       "      <th>1</th>\n",
       "      <td>IL9boN</td>\n",
       "      <td>15230</td>\n",
       "      <td>Thu</td>\n",
       "      <td>18</td>\n",
       "      <td>2013-09-12 18:38:53</td>\n",
       "      <td>257</td>\n",
       "      <td>Lispenard St &amp; Broadway</td>\n",
       "      <td>40.719392</td>\n",
       "      <td>-74.002472</td>\n",
       "      <td>2013-09-12 18:48:34</td>\n",
       "      <td>236</td>\n",
       "      <td>St Marks Pl &amp; 2 Ave</td>\n",
       "      <td>40.728419</td>\n",
       "      <td>-73.987140</td>\n",
       "      <td>581</td>\n",
       "      <td>Subscriber</td>\n",
       "      <td>1983</td>\n",
       "      <td>1</td>\n",
       "    </tr>\n",
       "  </tbody>\n",
       "</table>\n",
       "</div>"
      ],
      "text/plain": [
       "  trip_id bike_id weekday  start_hour          start_time start_station_id  \\\n",
       "0  LnQzQk   16013     Mon          18 2013-09-09 18:18:55              523   \n",
       "1  IL9boN   15230     Thu          18 2013-09-12 18:38:53              257   \n",
       "\n",
       "        start_station_name  start_station_latitude  start_station_longitude  \\\n",
       "0          W 38 St & 8 Ave               40.754666               -73.991382   \n",
       "1  Lispenard St & Broadway               40.719392               -74.002472   \n",
       "\n",
       "             end_time end_station_id     end_station_name  \\\n",
       "0 2013-09-09 18:35:28            334      W 20 St & 7 Ave   \n",
       "1 2013-09-12 18:48:34            236  St Marks Pl & 2 Ave   \n",
       "\n",
       "   end_station_latitude  end_station_longitude  trip_duration  subscriber  \\\n",
       "0             40.742388             -73.997262            993  Subscriber   \n",
       "1             40.728419             -73.987140            581  Subscriber   \n",
       "\n",
       "   birth_year gender  \n",
       "0        1968      2  \n",
       "1        1983      1  "
      ]
     },
     "execution_count": 18,
     "metadata": {},
     "output_type": "execute_result"
    }
   ],
   "source": [
    "df_nonnull.head(2)"
   ]
  },
  {
   "cell_type": "code",
   "execution_count": 19,
   "id": "381f35a2",
   "metadata": {},
   "outputs": [
    {
     "data": {
      "text/plain": [
       "<AxesSubplot:xlabel='birth_year'>"
      ]
     },
     "execution_count": 19,
     "metadata": {},
     "output_type": "execute_result"
    },
    {
     "data": {
      "image/png": "[encoded data removed]",
      "text/plain": [
       "<Figure size 640x480 with 1 Axes>"
      ]
     },
     "metadata": {},
     "output_type": "display_data"
    }
   ],
   "source": [
    "count_birthyear = df_nonnull.groupby(['birth_year'])['birth_year'].count()\n",
    "count_birthyear.plot()"
   ]
  },
  {
   "cell_type": "markdown",
   "id": "4a6764b7",
   "metadata": {},
   "source": [
    "### 3.3 Histogram of 'trip_duration'\n",
    "##### two methods"
   ]
  },
  {
   "cell_type": "code",
   "execution_count": 20,
   "id": "fad968a6",
   "metadata": {},
   "outputs": [],
   "source": [
    "import matplotlib.pyplot as pltt"
   ]
  },
  {
   "cell_type": "code",
   "execution_count": 21,
   "id": "96c4aa93",
   "metadata": {},
   "outputs": [
    {
     "data": {
      "text/plain": [
       "(array([ 240.,  435.,  699., 1022., 1457., 1710., 1900., 2057., 2030.,\n",
       "        1986., 2045., 1990., 1893., 1820., 1744., 1557., 1494., 1431.,\n",
       "        1252., 1235., 1147., 1041.,  982., 1018.,  894.,  903.,  792.,\n",
       "         763.,  699.,  692.,  667.,  618.,  637.,  569.,  581.,  507.,\n",
       "         508.,  471.,  415.,  368.,  395.,  347.,  327.,  288.,  292.,\n",
       "         264.,  269.,  243.,  192.,  203.,  184.,  173.,  140.,  153.,\n",
       "         126.,  125.,  117.,   90.,   89.,   87.,   78.,   82.,   70.,\n",
       "          63.,   63.,   56.,   52.,   58.,   51., 1054.]),\n",
       " array([  60.        ,   97.67142857,  135.34285714,  173.01428571,\n",
       "         210.68571429,  248.35714286,  286.02857143,  323.7       ,\n",
       "         361.37142857,  399.04285714,  436.71428571,  474.38571429,\n",
       "         512.05714286,  549.72857143,  587.4       ,  625.07142857,\n",
       "         662.74285714,  700.41428571,  738.08571429,  775.75714286,\n",
       "         813.42857143,  851.1       ,  888.77142857,  926.44285714,\n",
       "         964.11428571, 1001.78571429, 1039.45714286, 1077.12857143,\n",
       "        1114.8       , 1152.47142857, 1190.14285714, 1227.81428571,\n",
       "        1265.48571429, 1303.15714286, 1340.82857143, 1378.5       ,\n",
       "        1416.17142857, 1453.84285714, 1491.51428571, 1529.18571429,\n",
       "        1566.85714286, 1604.52857143, 1642.2       , 1679.87142857,\n",
       "        1717.54285714, 1755.21428571, 1792.88571429, 1830.55714286,\n",
       "        1868.22857143, 1905.9       , 1943.57142857, 1981.24285714,\n",
       "        2018.91428571, 2056.58571429, 2094.25714286, 2131.92857143,\n",
       "        2169.6       , 2207.27142857, 2244.94285714, 2282.61428571,\n",
       "        2320.28571429, 2357.95714286, 2395.62857143, 2433.3       ,\n",
       "        2470.97142857, 2508.64285714, 2546.31428571, 2583.98571429,\n",
       "        2621.65714286, 2659.32857143, 2697.        ]),\n",
       " <BarContainer object of 70 artists>)"
      ]
     },
     "execution_count": 21,
     "metadata": {},
     "output_type": "execute_result"
    },
    {
     "data": {
      "image/png": "[encoded data removed]",
      "text/plain": [
       "<Figure size 640x480 with 1 Axes>"
      ]
     },
     "metadata": {},
     "output_type": "display_data"
    }
   ],
   "source": [
    "pltt.hist(x = df_clean1['trip_duration'],bins = 'auto')"
   ]
  },
  {
   "cell_type": "code",
   "execution_count": 22,
   "id": "bca2c618",
   "metadata": {},
   "outputs": [
    {
     "data": {
      "text/plain": [
       "<AxesSubplot:ylabel='Frequency'>"
      ]
     },
     "execution_count": 22,
     "metadata": {},
     "output_type": "execute_result"
    },
    {
     "data": {
      "image/png": "[encoded data removed]",
      "text/plain": [
       "<Figure size 640x480 with 1 Axes>"
      ]
     },
     "metadata": {},
     "output_type": "display_data"
    }
   ],
   "source": [
    "df_clean1['trip_duration'].plot.hist(bins = 50)"
   ]
  },
  {
   "cell_type": "code",
   "execution_count": null,
   "id": "bde82fd9",
   "metadata": {},
   "outputs": [],
   "source": []
  }
 ],
 "metadata": {
  "kernelspec": {
   "display_name": "Python 3 (ipykernel)",
   "language": "python",
   "name": "python3"
  },
  "language_info": {
   "codemirror_mode": {
    "name": "ipython",
    "version": 3
   },
   "file_extension": ".py",
   "mimetype": "text/x-python",
   "name": "python",
   "nbconvert_exporter": "python",
   "pygments_lexer": "ipython3",
   "version": "3.9.13"
  }
 },
 "nbformat": 4,
 "nbformat_minor": 5
}
