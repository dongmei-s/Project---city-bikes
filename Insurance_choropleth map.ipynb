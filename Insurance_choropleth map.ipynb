{
 "cells": [
  {
   "cell_type": "markdown",
   "id": "46e0225a",
   "metadata": {},
   "source": [
    "# 1. Import libraries and data"
   ]
  },
  {
   "cell_type": "code",
   "execution_count": 1,
   "id": "de5cf77a",
   "metadata": {},
   "outputs": [],
   "source": [
    "# import libraries and data\n",
    "import numpy as np\n",
    "import pandas as pd\n",
    "import os\n",
    "import matplotlib\n",
    "import matplotlib.pyplot as plt\n",
    "import seaborn as sns\n",
    "import scipy as sp\n",
    "import folium\n",
    "import json"
   ]
  },
  {
   "cell_type": "code",
   "execution_count": 2,
   "id": "09cc1c77",
   "metadata": {},
   "outputs": [],
   "source": [
    "fpath = r'C:\\Users\\Mei\\Medical insurance'"
   ]
  },
  {
   "cell_type": "code",
   "execution_count": 3,
   "id": "946331e3",
   "metadata": {},
   "outputs": [],
   "source": [
    "df_ori = pd.read_csv(os.path.join(fpath,'original data','insurance.csv'), index_col = False)"
   ]
  },
  {
   "cell_type": "code",
   "execution_count": 4,
   "id": "443ec76d",
   "metadata": {},
   "outputs": [
    {
     "data": {
      "text/html": [
       "<div>\n",
       "<style scoped>\n",
       "    .dataframe tbody tr th:only-of-type {\n",
       "        vertical-align: middle;\n",
       "    }\n",
       "\n",
       "    .dataframe tbody tr th {\n",
       "        vertical-align: top;\n",
       "    }\n",
       "\n",
       "    .dataframe thead th {\n",
       "        text-align: right;\n",
       "    }\n",
       "</style>\n",
       "<table border=\"1\" class=\"dataframe\">\n",
       "  <thead>\n",
       "    <tr style=\"text-align: right;\">\n",
       "      <th></th>\n",
       "      <th>age</th>\n",
       "      <th>sex</th>\n",
       "      <th>bmi</th>\n",
       "      <th>children</th>\n",
       "      <th>smoker</th>\n",
       "      <th>region</th>\n",
       "      <th>charges</th>\n",
       "    </tr>\n",
       "  </thead>\n",
       "  <tbody>\n",
       "    <tr>\n",
       "      <th>0</th>\n",
       "      <td>19</td>\n",
       "      <td>female</td>\n",
       "      <td>27.900</td>\n",
       "      <td>0</td>\n",
       "      <td>yes</td>\n",
       "      <td>southwest</td>\n",
       "      <td>16884.92400</td>\n",
       "    </tr>\n",
       "    <tr>\n",
       "      <th>1</th>\n",
       "      <td>18</td>\n",
       "      <td>male</td>\n",
       "      <td>33.770</td>\n",
       "      <td>1</td>\n",
       "      <td>no</td>\n",
       "      <td>southeast</td>\n",
       "      <td>1725.55230</td>\n",
       "    </tr>\n",
       "    <tr>\n",
       "      <th>2</th>\n",
       "      <td>28</td>\n",
       "      <td>male</td>\n",
       "      <td>33.000</td>\n",
       "      <td>3</td>\n",
       "      <td>no</td>\n",
       "      <td>southeast</td>\n",
       "      <td>4449.46200</td>\n",
       "    </tr>\n",
       "    <tr>\n",
       "      <th>3</th>\n",
       "      <td>33</td>\n",
       "      <td>male</td>\n",
       "      <td>22.705</td>\n",
       "      <td>0</td>\n",
       "      <td>no</td>\n",
       "      <td>northwest</td>\n",
       "      <td>21984.47061</td>\n",
       "    </tr>\n",
       "    <tr>\n",
       "      <th>4</th>\n",
       "      <td>32</td>\n",
       "      <td>male</td>\n",
       "      <td>28.880</td>\n",
       "      <td>0</td>\n",
       "      <td>no</td>\n",
       "      <td>northwest</td>\n",
       "      <td>3866.85520</td>\n",
       "    </tr>\n",
       "  </tbody>\n",
       "</table>\n",
       "</div>"
      ],
      "text/plain": [
       "   age     sex     bmi  children smoker     region      charges\n",
       "0   19  female  27.900         0    yes  southwest  16884.92400\n",
       "1   18    male  33.770         1     no  southeast   1725.55230\n",
       "2   28    male  33.000         3     no  southeast   4449.46200\n",
       "3   33    male  22.705         0     no  northwest  21984.47061\n",
       "4   32    male  28.880         0     no  northwest   3866.85520"
      ]
     },
     "execution_count": 4,
     "metadata": {},
     "output_type": "execute_result"
    }
   ],
   "source": [
    "df_ori.head()"
   ]
  },
  {
   "cell_type": "code",
   "execution_count": 5,
   "id": "a99afe23",
   "metadata": {},
   "outputs": [],
   "source": [
    "df_ori.rename(columns = {'bmi':'body_mass_index'}, inplace = True)"
   ]
  },
  {
   "cell_type": "code",
   "execution_count": 6,
   "id": "6e906920",
   "metadata": {},
   "outputs": [
    {
     "data": {
      "text/plain": [
       "(1338, 7)"
      ]
     },
     "execution_count": 6,
     "metadata": {},
     "output_type": "execute_result"
    }
   ],
   "source": [
    "df_ori.shape"
   ]
  },
  {
   "cell_type": "code",
   "execution_count": 7,
   "id": "cf7badd0",
   "metadata": {},
   "outputs": [
    {
     "name": "stdout",
     "output_type": "stream",
     "text": [
      "<class 'pandas.core.frame.DataFrame'>\n",
      "RangeIndex: 1338 entries, 0 to 1337\n",
      "Data columns (total 7 columns):\n",
      " #   Column           Non-Null Count  Dtype  \n",
      "---  ------           --------------  -----  \n",
      " 0   age              1338 non-null   int64  \n",
      " 1   sex              1338 non-null   object \n",
      " 2   body_mass_index  1338 non-null   float64\n",
      " 3   children         1338 non-null   int64  \n",
      " 4   smoker           1338 non-null   object \n",
      " 5   region           1338 non-null   object \n",
      " 6   charges          1338 non-null   float64\n",
      "dtypes: float64(2), int64(2), object(3)\n",
      "memory usage: 73.3+ KB\n"
     ]
    }
   ],
   "source": [
    "df_ori.info()"
   ]
  },
  {
   "cell_type": "markdown",
   "id": "b8875054",
   "metadata": {},
   "source": [
    "# 2. Data integrety and consistency"
   ]
  },
  {
   "cell_type": "markdown",
   "id": "e0d5ce99",
   "metadata": {},
   "source": [
    "## Missing data check"
   ]
  },
  {
   "cell_type": "code",
   "execution_count": 8,
   "id": "2bbdf7c9",
   "metadata": {},
   "outputs": [
    {
     "data": {
      "text/plain": [
       "age                0\n",
       "sex                0\n",
       "body_mass_index    0\n",
       "children           0\n",
       "smoker             0\n",
       "region             0\n",
       "charges            0\n",
       "dtype: int64"
      ]
     },
     "execution_count": 8,
     "metadata": {},
     "output_type": "execute_result"
    }
   ],
   "source": [
    "df_ori.isnull().sum()"
   ]
  },
  {
   "cell_type": "markdown",
   "id": "fd9fbff8",
   "metadata": {},
   "source": [
    "## Mixed data type check"
   ]
  },
  {
   "cell_type": "code",
   "execution_count": 9,
   "id": "9a7a47ac",
   "metadata": {},
   "outputs": [],
   "source": [
    "for col in df_ori.columns.tolist():\n",
    "    wierd = (df_ori[[col]].applymap(type) != df_ori[[col]].iloc[0].apply(type)).any(axis =1)\n",
    "    if len(df_ori[wierd]) >0 :\n",
    "        print(col)"
   ]
  },
  {
   "cell_type": "markdown",
   "id": "2523f94c",
   "metadata": {},
   "source": [
    "## Duplicates check"
   ]
  },
  {
   "cell_type": "code",
   "execution_count": 10,
   "id": "d456da27",
   "metadata": {},
   "outputs": [
    {
     "data": {
      "text/html": [
       "<div>\n",
       "<style scoped>\n",
       "    .dataframe tbody tr th:only-of-type {\n",
       "        vertical-align: middle;\n",
       "    }\n",
       "\n",
       "    .dataframe tbody tr th {\n",
       "        vertical-align: top;\n",
       "    }\n",
       "\n",
       "    .dataframe thead th {\n",
       "        text-align: right;\n",
       "    }\n",
       "</style>\n",
       "<table border=\"1\" class=\"dataframe\">\n",
       "  <thead>\n",
       "    <tr style=\"text-align: right;\">\n",
       "      <th></th>\n",
       "      <th>age</th>\n",
       "      <th>sex</th>\n",
       "      <th>body_mass_index</th>\n",
       "      <th>children</th>\n",
       "      <th>smoker</th>\n",
       "      <th>region</th>\n",
       "      <th>charges</th>\n",
       "    </tr>\n",
       "  </thead>\n",
       "  <tbody>\n",
       "    <tr>\n",
       "      <th>581</th>\n",
       "      <td>19</td>\n",
       "      <td>male</td>\n",
       "      <td>30.59</td>\n",
       "      <td>0</td>\n",
       "      <td>no</td>\n",
       "      <td>northwest</td>\n",
       "      <td>1639.5631</td>\n",
       "    </tr>\n",
       "  </tbody>\n",
       "</table>\n",
       "</div>"
      ],
      "text/plain": [
       "     age   sex  body_mass_index  children smoker     region    charges\n",
       "581   19  male            30.59         0     no  northwest  1639.5631"
      ]
     },
     "execution_count": 10,
     "metadata": {},
     "output_type": "execute_result"
    }
   ],
   "source": [
    "df_ori[df_ori.duplicated()]"
   ]
  },
  {
   "cell_type": "markdown",
   "id": "5d3e6698",
   "metadata": {},
   "source": [
    "## Extrem records"
   ]
  },
  {
   "cell_type": "code",
   "execution_count": 11,
   "id": "d2942414",
   "metadata": {},
   "outputs": [
    {
     "data": {
      "image/png": "[encoded data removed]",
      "text/plain": [
       "<Figure size 640x480 with 1 Axes>"
      ]
     },
     "metadata": {},
     "output_type": "display_data"
    }
   ],
   "source": [
    "fig1 = sns.histplot(df_ori['charges'], bins = 'auto',kde = True)"
   ]
  },
  {
   "cell_type": "markdown",
   "id": "44c2f532",
   "metadata": {},
   "source": [
    "### conclusions for the above checks: \n",
    "### there are no missing values, no duplicates, no mixed type data and no extrem records"
   ]
  },
  {
   "cell_type": "code",
   "execution_count": 12,
   "id": "cebae6e7",
   "metadata": {},
   "outputs": [],
   "source": [
    "df_ori.to_pickle(os.path.join(fpath,'cleaned data','insurance_clean.pkl'))"
   ]
  },
  {
   "cell_type": "markdown",
   "id": "206330ac",
   "metadata": {},
   "source": [
    "# 3. Choropleth map"
   ]
  },
  {
   "cell_type": "code",
   "execution_count": 13,
   "id": "8c79f1a5",
   "metadata": {},
   "outputs": [],
   "source": [
    "jpath = r'C:\\Users\\Mei\\Medical insurance\\original data\\geoJSON_us_regions'"
   ]
  },
  {
   "cell_type": "code",
   "execution_count": 14,
   "id": "3548c281",
   "metadata": {},
   "outputs": [
    {
     "name": "stdout",
     "output_type": "stream",
     "text": [
      "{'type': 'Feature', 'properties': {'name': 'Midwest'}, 'geometry': {'type': 'Polygon', 'coordinates': [[[-104.32617187499999, 49.03786794532644], [-103.974609375, 41.04621681452063], [-101.6015625, 41.04621681452063], [-102.48046875, 37.020098201368114], [-94.5703125, 37.09023980307208], [-93.603515625, 36.4566360115962], [-89.296875, 37.23032838760387], [-87.71484375, 38.272688535980976], [-85.4296875, 38.54816542304656], [-84.638671875, 39.16414104768742], [-83.232421875, 38.75408327579141], [-82.177734375, 38.685509760012], [-80.85937499999999, 39.842286020743394], [-80.595703125, 41.57436130598913], [-83.583984375, 41.96765920367816], [-82.79296874999999, 42.4234565179383], [-82.705078125, 43.389081939117496], [-83.232421875, 43.70759350405294], [-84.111328125, 43.96119063892024], [-83.49609375, 44.653024159812], [-84.55078125, 45.460130637921004], [-85.4296875, 45.1510532655634], [-86.396484375, 44.213709909702054], [-86.220703125, 43.389081939117496], [-86.220703125, 42.16340342422401], [-87.1875, 41.64007838467894], [-87.62695312499999, 42.35854391749705], [-87.890625, 43.51668853502906], [-87.5390625, 44.5278427984555], [-87.62695312499999, 45.089035564831036], [-88.330078125, 45.89000815866184], [-91.0546875, 46.86019101567027], [-92.63671875, 46.558860303117164], [-90.17578124999999, 48.16608541901253], [-91.669921875, 48.16608541901253], [-94.658203125, 48.69096039092549], [-95.537109375, 49.15296965617042], [-104.32617187499999, 49.03786794532644]]]}}\n",
      "{'type': 'Feature', 'properties': {'name': 'Northeast'}, 'geometry': {'type': 'Polygon', 'coordinates': [[[-80.57373046875, 41.590796851056005], [-80.85937499999999, 39.791654835253425], [-75.8056640625, 39.690280594818034], [-75.4541015625, 39.67337039176558], [-74.794921875, 39.06184913429154], [-74.06982421875, 40.16208338164617], [-74.267578125, 40.44694705960048], [-74.24560546875, 40.613952441166596], [-72.1142578125, 40.94671366508002], [-73.47656249999999, 41.09591205639546], [-72.1142578125, 41.409775832009565], [-71.56494140625, 41.393294288784865], [-71.38916015625, 41.705728515237524], [-71.12548828125, 41.5579215778042], [-70.81787109374999, 41.68932225997044], [-70.59814453125, 41.75492216766298], [-70.48828125, 41.52502957323801], [-70.0048828125, 41.60722821271717], [-70.7958984375, 42.13082130188811], [-71.015625, 42.50450285299051], [-70.7958984375, 42.97250158602597], [-70.15869140625, 43.77109381775651], [-69.345703125, 43.91372326852401], [-68.97216796875, 44.213709909702054], [-68.79638671875, 44.68427737181225], [-68.48876953125, 44.512176171071054], [-68.31298828125, 44.6061127451739], [-68.115234375, 44.41808794374846], [-66.81884765625, 44.731125592643274], [-67.30224609375, 45.22848059584359], [-67.78564453125, 46.057985244793024], [-67.78564453125, 46.70973594407157], [-68.13720703125, 47.338822694822], [-68.97216796875, 47.14489748555398], [-69.2578125, 47.42808726171425], [-69.9609375, 46.81509864599243], [-70.13671875, 46.255846818480315], [-70.400390625, 45.706179285330855], [-70.751953125, 45.3521452458518], [-71.1474609375, 45.182036837015886], [-71.4990234375, 45.10454630976873], [-71.4990234375, 44.99588261816546], [-74.794921875, 45.042478050891546], [-75.87158203125, 44.41808794374846], [-76.13525390624999, 44.08758502824516], [-76.00341796875, 43.67581809328341], [-76.201171875, 43.54854811091286], [-76.88232421875, 43.34116005412307], [-77.1240234375, 43.18114705939968], [-77.54150390625, 43.27720532212024], [-78.79394531249999, 43.29320031385282], [-79.07958984375, 43.14909399920127], [-78.79394531249999, 42.8115217450979], [-78.94775390625, 42.56926437219384], [-79.73876953125, 42.114523952464246], [-80.33203125, 41.82045509614034], [-80.57373046875, 41.590796851056005]]]}}\n",
      "{'type': 'Feature', 'properties': {'name': 'South'}, 'geometry': {'type': 'Polygon', 'coordinates': [[[-102.48046875, 37.125286284966805], [-103.0078125, 37.125286284966805], [-102.9638671875, 32.0639555946604], [-106.6552734375, 31.914867503276223], [-105.16113281249999, 30.751277776257812], [-104.4140625, 29.611670115197377], [-103.22753906249999, 29.036960648558267], [-102.3046875, 30.29701788337205], [-101.337890625, 29.6880527498568], [-99.6240234375, 27.488781168937997], [-98.96484375, 26.352497858154024], [-98.0419921875, 26.194876675795218], [-97.20703125, 25.958044673317843], [-97.5146484375, 27.0982539061379], [-97.470703125, 27.994401411046148], [-96.8994140625, 28.497660832963472], [-95.6689453125, 28.92163128242129], [-95.00976562499999, 29.19053283229458], [-95.00976562499999, 29.84064389983441], [-94.3505859375, 29.611670115197377], [-93.55957031249999, 29.80251790576445], [-93.3837890625, 29.878755346037977], [-92.28515625, 29.57345707301757], [-91.93359375, 29.954934549656144], [-91.40625, 29.6880527498568], [-91.40625, 30.107117887092357], [-91.1865234375, 29.6880527498568], [-90.791015625, 29.305561325527698], [-89.9560546875, 29.49698759653577], [-89.8681640625, 30.06909396443887], [-89.5166015625, 30.29701788337205], [-87.978515625, 30.600093873550072], [-86.7919921875, 30.44867367928756], [-86.220703125, 30.44867367928756], [-85.7373046875, 30.107117887092357], [-85.0341796875, 29.878755346037977], [-83.9794921875, 30.14512718337613], [-83.232421875, 29.305561325527698], [-82.529296875, 28.729130483430154], [-82.5732421875, 27.877928333679495], [-82.44140625, 27.293689224852407], [-81.82617187499999, 26.509904531413927], [-81.0791015625, 25.878994400196202], [-80.85937499999999, 25.284437746983055], [-80.15625, 25.522614647623293], [-79.9365234375, 26.54922257769204], [-80.15625, 27.254629577800063], [-80.5078125, 28.14950321154457], [-81.1669921875, 29.458731185355344], [-81.4306640625, 30.183121842195515], [-81.650390625, 30.90222470517144], [-81.474609375, 31.615965936476076], [-80.9912109375, 32.0639555946604], [-79.98046875, 32.84267363195431], [-79.40917968749999, 33.358061612778876], [-77.6953125, 34.27083595165], [-76.81640625, 34.813803317113155], [-76.81640625, 35.496456056584165], [-75.76171875, 35.67514743608467], [-76.1572265625, 35.96022296929667], [-76.640625, 36.10237644873644], [-76.201171875, 36.35052700542763], [-76.11328125, 37.020098201368114], [-76.6845703125, 37.37015718405753], [-76.46484375, 37.71859032558816], [-75.89355468749999, 37.405073750176925], [-75.234375, 38.30718056188316], [-75.8056640625, 39.67337039176558], [-80.85937499999999, 39.774769485295465], [-82.08984375, 38.61687046392973], [-84.4189453125, 39.06184913429154], [-85.60546875, 38.54816542304656], [-87.890625, 38.30718056188316], [-89.1650390625, 37.19533058280065], [-93.603515625, 36.421282443649496], [-94.7021484375, 37.020098201368114], [-102.48046875, 37.125286284966805]]]}}\n",
      "{'type': 'Feature', 'properties': {'name': 'West'}, 'geometry': {'type': 'Polygon', 'coordinates': [[[-104.3701171875, 49.03786794532644], [-123.134765625, 49.03786794532644], [-122.3876953125, 48.37084770238366], [-122.08007812499999, 47.78363463526376], [-122.29980468749999, 47.487513008956554], [-122.51953124999999, 47.30903424774781], [-122.73925781250001, 47.12995075666307], [-123.04687499999999, 47.635783590864854], [-123.00292968749999, 48.10743118848039], [-123.8818359375, 48.16608541901253], [-124.541015625, 48.45835188280866], [-124.5849609375, 47.87214396888731], [-124.1015625, 47.07012182383309], [-123.96972656249999, 46.10370875598026], [-124.541015625, 42.97250158602597], [-124.1455078125, 41.77131167976407], [-124.365234375, 40.94671366508002], [-124.365234375, 40.3130432088809], [-123.662109375, 38.993572058209466], [-122.51953124999999, 37.85750715625203], [-122.03613281249999, 37.125286284966805], [-121.9482421875, 36.56260003738545], [-120.5419921875, 34.415973384481866], [-118.7841796875, 34.08906131584994], [-117.72949218749999, 33.7243396617476], [-117.158203125, 32.62087018318113], [-114.78515624999999, 32.76880048488168], [-111.005859375, 31.466153715024294], [-108.10546875, 31.466153715024294], [-107.9736328125, 31.80289258670676], [-106.5234375, 31.765537409484374], [-103.0078125, 32.10118973232094], [-103.1396484375, 37.125286284966805], [-102.568359375, 37.19533058280065], [-101.7333984375, 40.97989806962013], [-104.0185546875, 41.07935114946899], [-104.3701171875, 49.03786794532644]]]}}\n"
     ]
    }
   ],
   "source": [
    "f = open(jpath)\n",
    "data = json.load(f)\n",
    "\n",
    "for i in data['features']:\n",
    "    print(i)"
   ]
  },
  {
   "cell_type": "code",
   "execution_count": 15,
   "id": "6e5119b3",
   "metadata": {},
   "outputs": [
    {
     "data": {
      "text/html": [
       "<div>\n",
       "<style scoped>\n",
       "    .dataframe tbody tr th:only-of-type {\n",
       "        vertical-align: middle;\n",
       "    }\n",
       "\n",
       "    .dataframe tbody tr th {\n",
       "        vertical-align: top;\n",
       "    }\n",
       "\n",
       "    .dataframe thead th {\n",
       "        text-align: right;\n",
       "    }\n",
       "</style>\n",
       "<table border=\"1\" class=\"dataframe\">\n",
       "  <thead>\n",
       "    <tr style=\"text-align: right;\">\n",
       "      <th></th>\n",
       "      <th>age</th>\n",
       "      <th>sex</th>\n",
       "      <th>body_mass_index</th>\n",
       "      <th>children</th>\n",
       "      <th>smoker</th>\n",
       "      <th>region</th>\n",
       "      <th>charges</th>\n",
       "    </tr>\n",
       "  </thead>\n",
       "  <tbody>\n",
       "    <tr>\n",
       "      <th>0</th>\n",
       "      <td>19</td>\n",
       "      <td>female</td>\n",
       "      <td>27.900</td>\n",
       "      <td>0</td>\n",
       "      <td>yes</td>\n",
       "      <td>southwest</td>\n",
       "      <td>16884.92400</td>\n",
       "    </tr>\n",
       "    <tr>\n",
       "      <th>1</th>\n",
       "      <td>18</td>\n",
       "      <td>male</td>\n",
       "      <td>33.770</td>\n",
       "      <td>1</td>\n",
       "      <td>no</td>\n",
       "      <td>southeast</td>\n",
       "      <td>1725.55230</td>\n",
       "    </tr>\n",
       "    <tr>\n",
       "      <th>2</th>\n",
       "      <td>28</td>\n",
       "      <td>male</td>\n",
       "      <td>33.000</td>\n",
       "      <td>3</td>\n",
       "      <td>no</td>\n",
       "      <td>southeast</td>\n",
       "      <td>4449.46200</td>\n",
       "    </tr>\n",
       "    <tr>\n",
       "      <th>3</th>\n",
       "      <td>33</td>\n",
       "      <td>male</td>\n",
       "      <td>22.705</td>\n",
       "      <td>0</td>\n",
       "      <td>no</td>\n",
       "      <td>northwest</td>\n",
       "      <td>21984.47061</td>\n",
       "    </tr>\n",
       "    <tr>\n",
       "      <th>4</th>\n",
       "      <td>32</td>\n",
       "      <td>male</td>\n",
       "      <td>28.880</td>\n",
       "      <td>0</td>\n",
       "      <td>no</td>\n",
       "      <td>northwest</td>\n",
       "      <td>3866.85520</td>\n",
       "    </tr>\n",
       "  </tbody>\n",
       "</table>\n",
       "</div>"
      ],
      "text/plain": [
       "   age     sex  body_mass_index  children smoker     region      charges\n",
       "0   19  female           27.900         0    yes  southwest  16884.92400\n",
       "1   18    male           33.770         1     no  southeast   1725.55230\n",
       "2   28    male           33.000         3     no  southeast   4449.46200\n",
       "3   33    male           22.705         0     no  northwest  21984.47061\n",
       "4   32    male           28.880         0     no  northwest   3866.85520"
      ]
     },
     "execution_count": 15,
     "metadata": {},
     "output_type": "execute_result"
    }
   ],
   "source": [
    "df_ori.head()"
   ]
  },
  {
   "cell_type": "code",
   "execution_count": 28,
   "id": "ec05a4ce",
   "metadata": {},
   "outputs": [
    {
     "data": {
      "text/html": [
       "<div>\n",
       "<style scoped>\n",
       "    .dataframe tbody tr th:only-of-type {\n",
       "        vertical-align: middle;\n",
       "    }\n",
       "\n",
       "    .dataframe tbody tr th {\n",
       "        vertical-align: top;\n",
       "    }\n",
       "\n",
       "    .dataframe thead th {\n",
       "        text-align: right;\n",
       "    }\n",
       "</style>\n",
       "<table border=\"1\" class=\"dataframe\">\n",
       "  <thead>\n",
       "    <tr style=\"text-align: right;\">\n",
       "      <th></th>\n",
       "      <th>region</th>\n",
       "      <th>charges</th>\n",
       "    </tr>\n",
       "  </thead>\n",
       "  <tbody>\n",
       "    <tr>\n",
       "      <th>0</th>\n",
       "      <td>southwest</td>\n",
       "      <td>16884.92400</td>\n",
       "    </tr>\n",
       "    <tr>\n",
       "      <th>1</th>\n",
       "      <td>southeast</td>\n",
       "      <td>1725.55230</td>\n",
       "    </tr>\n",
       "    <tr>\n",
       "      <th>2</th>\n",
       "      <td>southeast</td>\n",
       "      <td>4449.46200</td>\n",
       "    </tr>\n",
       "    <tr>\n",
       "      <th>3</th>\n",
       "      <td>northwest</td>\n",
       "      <td>21984.47061</td>\n",
       "    </tr>\n",
       "    <tr>\n",
       "      <th>4</th>\n",
       "      <td>northwest</td>\n",
       "      <td>3866.85520</td>\n",
       "    </tr>\n",
       "  </tbody>\n",
       "</table>\n",
       "</div>"
      ],
      "text/plain": [
       "      region      charges\n",
       "0  southwest  16884.92400\n",
       "1  southeast   1725.55230\n",
       "2  southeast   4449.46200\n",
       "3  northwest  21984.47061\n",
       "4  northwest   3866.85520"
      ]
     },
     "execution_count": 28,
     "metadata": {},
     "output_type": "execute_result"
    }
   ],
   "source": [
    "data_to_plot = df_ori[['region','charges']]\n",
    "data_to_plot.head()"
   ]
  },
  {
   "cell_type": "code",
   "execution_count": 29,
   "id": "02c64c9e",
   "metadata": {},
   "outputs": [
    {
     "data": {
      "text/html": [
       "<div style=\"width:100%;\"><div style=\"position:relative;width:100%;height:0;padding-bottom:60%;\"><span style=\"color:#565656\">Make this Notebook Trusted to load map: File -> Trust Notebook</span><iframe srcdoc=\"&lt;!DOCTYPE html&gt;\n",
       "&lt;html&gt;\n",
       "&lt;head&gt;\n",
       "    \n",
       "    &lt;meta http-equiv=&quot;content-type&quot; content=&quot;text/html; charset=UTF-8&quot; /&gt;\n",
       "    \n",
       "        &lt;script&gt;\n",
       "            L_NO_TOUCH = false;\n",
       "            L_DISABLE_3D = false;\n",
       "        &lt;/script&gt;\n",
       "    \n",
       "    &lt;style&gt;html, body {width: 100%;height: 100%;margin: 0;padding: 0;}&lt;/style&gt;\n",
       "    &lt;style&gt;#map {position:absolute;top:0;bottom:0;right:0;left:0;}&lt;/style&gt;\n",
       "    &lt;script src=&quot;https://cdn.jsdelivr.net/npm/leaflet@1.9.3/dist/leaflet.js&quot;&gt;&lt;/script&gt;\n",
       "    &lt;script src=&quot;https://code.jquery.com/jquery-1.12.4.min.js&quot;&gt;&lt;/script&gt;\n",
       "    &lt;script src=&quot;https://cdn.jsdelivr.net/npm/bootstrap@5.2.2/dist/js/bootstrap.bundle.min.js&quot;&gt;&lt;/script&gt;\n",
       "    &lt;script src=&quot;https://cdnjs.cloudflare.com/ajax/libs/Leaflet.awesome-markers/2.0.2/leaflet.awesome-markers.js&quot;&gt;&lt;/script&gt;\n",
       "    &lt;link rel=&quot;stylesheet&quot; href=&quot;https://cdn.jsdelivr.net/npm/leaflet@1.9.3/dist/leaflet.css&quot;/&gt;\n",
       "    &lt;link rel=&quot;stylesheet&quot; href=&quot;https://cdn.jsdelivr.net/npm/bootstrap@5.2.2/dist/css/bootstrap.min.css&quot;/&gt;\n",
       "    &lt;link rel=&quot;stylesheet&quot; href=&quot;https://netdna.bootstrapcdn.com/bootstrap/3.0.0/css/bootstrap.min.css&quot;/&gt;\n",
       "    &lt;link rel=&quot;stylesheet&quot; href=&quot;https://cdn.jsdelivr.net/npm/@fortawesome/fontawesome-free@6.2.0/css/all.min.css&quot;/&gt;\n",
       "    &lt;link rel=&quot;stylesheet&quot; href=&quot;https://cdnjs.cloudflare.com/ajax/libs/Leaflet.awesome-markers/2.0.2/leaflet.awesome-markers.css&quot;/&gt;\n",
       "    &lt;link rel=&quot;stylesheet&quot; href=&quot;https://cdn.jsdelivr.net/gh/python-visualization/folium/folium/templates/leaflet.awesome.rotate.min.css&quot;/&gt;\n",
       "    \n",
       "            &lt;meta name=&quot;viewport&quot; content=&quot;width=device-width,\n",
       "                initial-scale=1.0, maximum-scale=1.0, user-scalable=no&quot; /&gt;\n",
       "            &lt;style&gt;\n",
       "                #map_f51f3764091e0043a6129306b78db911 {\n",
       "                    position: relative;\n",
       "                    width: 100.0%;\n",
       "                    height: 100.0%;\n",
       "                    left: 0.0%;\n",
       "                    top: 0.0%;\n",
       "                }\n",
       "                .leaflet-container { font-size: 1rem; }\n",
       "            &lt;/style&gt;\n",
       "        \n",
       "    &lt;script src=&quot;https://cdnjs.cloudflare.com/ajax/libs/d3/3.5.5/d3.min.js&quot;&gt;&lt;/script&gt;\n",
       "&lt;/head&gt;\n",
       "&lt;body&gt;\n",
       "    \n",
       "    \n",
       "            &lt;div class=&quot;folium-map&quot; id=&quot;map_f51f3764091e0043a6129306b78db911&quot; &gt;&lt;/div&gt;\n",
       "        \n",
       "&lt;/body&gt;\n",
       "&lt;script&gt;\n",
       "    \n",
       "    \n",
       "            var map_f51f3764091e0043a6129306b78db911 = L.map(\n",
       "                &quot;map_f51f3764091e0043a6129306b78db911&quot;,\n",
       "                {\n",
       "                    center: [38.58, -99.09],\n",
       "                    crs: L.CRS.EPSG3857,\n",
       "                    zoom: 4,\n",
       "                    zoomControl: true,\n",
       "                    preferCanvas: false,\n",
       "                    titles: &quot;Stamen Terrain&quot;,\n",
       "                }\n",
       "            );\n",
       "\n",
       "            \n",
       "\n",
       "        \n",
       "    \n",
       "            var tile_layer_a8f3e36576b990c1af353236044ba8b2 = L.tileLayer(\n",
       "                &quot;https://{s}.tile.openstreetmap.org/{z}/{x}/{y}.png&quot;,\n",
       "                {&quot;attribution&quot;: &quot;Data by \\u0026copy; \\u003ca target=\\&quot;_blank\\&quot; href=\\&quot;http://openstreetmap.org\\&quot;\\u003eOpenStreetMap\\u003c/a\\u003e, under \\u003ca target=\\&quot;_blank\\&quot; href=\\&quot;http://www.openstreetmap.org/copyright\\&quot;\\u003eODbL\\u003c/a\\u003e.&quot;, &quot;detectRetina&quot;: false, &quot;maxNativeZoom&quot;: 18, &quot;maxZoom&quot;: 18, &quot;minZoom&quot;: 0, &quot;noWrap&quot;: false, &quot;opacity&quot;: 1, &quot;subdomains&quot;: &quot;abc&quot;, &quot;tms&quot;: false}\n",
       "            ).addTo(map_f51f3764091e0043a6129306b78db911);\n",
       "        \n",
       "    \n",
       "            var choropleth_eaa624c83eb9e364691c5c82b29005f0 = L.featureGroup(\n",
       "                {}\n",
       "            ).addTo(map_f51f3764091e0043a6129306b78db911);\n",
       "        \n",
       "    \n",
       "        function geo_json_e572d5844722a946797ed155ce8f1f95_styler(feature) {\n",
       "            switch(feature.properties.name) {\n",
       "                default:\n",
       "                    return {&quot;color&quot;: &quot;black&quot;, &quot;fillColor&quot;: &quot;black&quot;, &quot;fillOpacity&quot;: 0.6, &quot;opacity&quot;: 0.1, &quot;weight&quot;: 1};\n",
       "            }\n",
       "        }\n",
       "\n",
       "        function geo_json_e572d5844722a946797ed155ce8f1f95_onEachFeature(feature, layer) {\n",
       "            layer.on({\n",
       "            });\n",
       "        };\n",
       "        var geo_json_e572d5844722a946797ed155ce8f1f95 = L.geoJson(null, {\n",
       "                onEachFeature: geo_json_e572d5844722a946797ed155ce8f1f95_onEachFeature,\n",
       "            \n",
       "                style: geo_json_e572d5844722a946797ed155ce8f1f95_styler,\n",
       "        });\n",
       "\n",
       "        function geo_json_e572d5844722a946797ed155ce8f1f95_add (data) {\n",
       "            geo_json_e572d5844722a946797ed155ce8f1f95\n",
       "                .addData(data)\n",
       "                .addTo(choropleth_eaa624c83eb9e364691c5c82b29005f0);\n",
       "        }\n",
       "            geo_json_e572d5844722a946797ed155ce8f1f95_add({&quot;features&quot;: [{&quot;geometry&quot;: {&quot;coordinates&quot;: [[[-104.32617187499999, 49.03786794532644], [-103.974609375, 41.04621681452063], [-101.6015625, 41.04621681452063], [-102.48046875, 37.020098201368114], [-94.5703125, 37.09023980307208], [-93.603515625, 36.4566360115962], [-89.296875, 37.23032838760387], [-87.71484375, 38.272688535980976], [-85.4296875, 38.54816542304656], [-84.638671875, 39.16414104768742], [-83.232421875, 38.75408327579141], [-82.177734375, 38.685509760012], [-80.85937499999999, 39.842286020743394], [-80.595703125, 41.57436130598913], [-83.583984375, 41.96765920367816], [-82.79296874999999, 42.4234565179383], [-82.705078125, 43.389081939117496], [-83.232421875, 43.70759350405294], [-84.111328125, 43.96119063892024], [-83.49609375, 44.653024159812], [-84.55078125, 45.460130637921004], [-85.4296875, 45.1510532655634], [-86.396484375, 44.213709909702054], [-86.220703125, 43.389081939117496], [-86.220703125, 42.16340342422401], [-87.1875, 41.64007838467894], [-87.62695312499999, 42.35854391749705], [-87.890625, 43.51668853502906], [-87.5390625, 44.5278427984555], [-87.62695312499999, 45.089035564831036], [-88.330078125, 45.89000815866184], [-91.0546875, 46.86019101567027], [-92.63671875, 46.558860303117164], [-90.17578124999999, 48.16608541901253], [-91.669921875, 48.16608541901253], [-94.658203125, 48.69096039092549], [-95.537109375, 49.15296965617042], [-104.32617187499999, 49.03786794532644]]], &quot;type&quot;: &quot;Polygon&quot;}, &quot;properties&quot;: {&quot;name&quot;: &quot;Midwest&quot;}, &quot;type&quot;: &quot;Feature&quot;}, {&quot;geometry&quot;: {&quot;coordinates&quot;: [[[-80.57373046875, 41.590796851056005], [-80.85937499999999, 39.791654835253425], [-75.8056640625, 39.690280594818034], [-75.4541015625, 39.67337039176558], [-74.794921875, 39.06184913429154], [-74.06982421875, 40.16208338164617], [-74.267578125, 40.44694705960048], [-74.24560546875, 40.613952441166596], [-72.1142578125, 40.94671366508002], [-73.47656249999999, 41.09591205639546], [-72.1142578125, 41.409775832009565], [-71.56494140625, 41.393294288784865], [-71.38916015625, 41.705728515237524], [-71.12548828125, 41.5579215778042], [-70.81787109374999, 41.68932225997044], [-70.59814453125, 41.75492216766298], [-70.48828125, 41.52502957323801], [-70.0048828125, 41.60722821271717], [-70.7958984375, 42.13082130188811], [-71.015625, 42.50450285299051], [-70.7958984375, 42.97250158602597], [-70.15869140625, 43.77109381775651], [-69.345703125, 43.91372326852401], [-68.97216796875, 44.213709909702054], [-68.79638671875, 44.68427737181225], [-68.48876953125, 44.512176171071054], [-68.31298828125, 44.6061127451739], [-68.115234375, 44.41808794374846], [-66.81884765625, 44.731125592643274], [-67.30224609375, 45.22848059584359], [-67.78564453125, 46.057985244793024], [-67.78564453125, 46.70973594407157], [-68.13720703125, 47.338822694822], [-68.97216796875, 47.14489748555398], [-69.2578125, 47.42808726171425], [-69.9609375, 46.81509864599243], [-70.13671875, 46.255846818480315], [-70.400390625, 45.706179285330855], [-70.751953125, 45.3521452458518], [-71.1474609375, 45.182036837015886], [-71.4990234375, 45.10454630976873], [-71.4990234375, 44.99588261816546], [-74.794921875, 45.042478050891546], [-75.87158203125, 44.41808794374846], [-76.13525390624999, 44.08758502824516], [-76.00341796875, 43.67581809328341], [-76.201171875, 43.54854811091286], [-76.88232421875, 43.34116005412307], [-77.1240234375, 43.18114705939968], [-77.54150390625, 43.27720532212024], [-78.79394531249999, 43.29320031385282], [-79.07958984375, 43.14909399920127], [-78.79394531249999, 42.8115217450979], [-78.94775390625, 42.56926437219384], [-79.73876953125, 42.114523952464246], [-80.33203125, 41.82045509614034], [-80.57373046875, 41.590796851056005]]], &quot;type&quot;: &quot;Polygon&quot;}, &quot;properties&quot;: {&quot;name&quot;: &quot;Northeast&quot;}, &quot;type&quot;: &quot;Feature&quot;}, {&quot;geometry&quot;: {&quot;coordinates&quot;: [[[-102.48046875, 37.125286284966805], [-103.0078125, 37.125286284966805], [-102.9638671875, 32.0639555946604], [-106.6552734375, 31.914867503276223], [-105.16113281249999, 30.751277776257812], [-104.4140625, 29.611670115197377], [-103.22753906249999, 29.036960648558267], [-102.3046875, 30.29701788337205], [-101.337890625, 29.6880527498568], [-99.6240234375, 27.488781168937997], [-98.96484375, 26.352497858154024], [-98.0419921875, 26.194876675795218], [-97.20703125, 25.958044673317843], [-97.5146484375, 27.0982539061379], [-97.470703125, 27.994401411046148], [-96.8994140625, 28.497660832963472], [-95.6689453125, 28.92163128242129], [-95.00976562499999, 29.19053283229458], [-95.00976562499999, 29.84064389983441], [-94.3505859375, 29.611670115197377], [-93.55957031249999, 29.80251790576445], [-93.3837890625, 29.878755346037977], [-92.28515625, 29.57345707301757], [-91.93359375, 29.954934549656144], [-91.40625, 29.6880527498568], [-91.40625, 30.107117887092357], [-91.1865234375, 29.6880527498568], [-90.791015625, 29.305561325527698], [-89.9560546875, 29.49698759653577], [-89.8681640625, 30.06909396443887], [-89.5166015625, 30.29701788337205], [-87.978515625, 30.600093873550072], [-86.7919921875, 30.44867367928756], [-86.220703125, 30.44867367928756], [-85.7373046875, 30.107117887092357], [-85.0341796875, 29.878755346037977], [-83.9794921875, 30.14512718337613], [-83.232421875, 29.305561325527698], [-82.529296875, 28.729130483430154], [-82.5732421875, 27.877928333679495], [-82.44140625, 27.293689224852407], [-81.82617187499999, 26.509904531413927], [-81.0791015625, 25.878994400196202], [-80.85937499999999, 25.284437746983055], [-80.15625, 25.522614647623293], [-79.9365234375, 26.54922257769204], [-80.15625, 27.254629577800063], [-80.5078125, 28.14950321154457], [-81.1669921875, 29.458731185355344], [-81.4306640625, 30.183121842195515], [-81.650390625, 30.90222470517144], [-81.474609375, 31.615965936476076], [-80.9912109375, 32.0639555946604], [-79.98046875, 32.84267363195431], [-79.40917968749999, 33.358061612778876], [-77.6953125, 34.27083595165], [-76.81640625, 34.813803317113155], [-76.81640625, 35.496456056584165], [-75.76171875, 35.67514743608467], [-76.1572265625, 35.96022296929667], [-76.640625, 36.10237644873644], [-76.201171875, 36.35052700542763], [-76.11328125, 37.020098201368114], [-76.6845703125, 37.37015718405753], [-76.46484375, 37.71859032558816], [-75.89355468749999, 37.405073750176925], [-75.234375, 38.30718056188316], [-75.8056640625, 39.67337039176558], [-80.85937499999999, 39.774769485295465], [-82.08984375, 38.61687046392973], [-84.4189453125, 39.06184913429154], [-85.60546875, 38.54816542304656], [-87.890625, 38.30718056188316], [-89.1650390625, 37.19533058280065], [-93.603515625, 36.421282443649496], [-94.7021484375, 37.020098201368114], [-102.48046875, 37.125286284966805]]], &quot;type&quot;: &quot;Polygon&quot;}, &quot;properties&quot;: {&quot;name&quot;: &quot;South&quot;}, &quot;type&quot;: &quot;Feature&quot;}, {&quot;geometry&quot;: {&quot;coordinates&quot;: [[[-104.3701171875, 49.03786794532644], [-123.134765625, 49.03786794532644], [-122.3876953125, 48.37084770238366], [-122.08007812499999, 47.78363463526376], [-122.29980468749999, 47.487513008956554], [-122.51953124999999, 47.30903424774781], [-122.73925781250001, 47.12995075666307], [-123.04687499999999, 47.635783590864854], [-123.00292968749999, 48.10743118848039], [-123.8818359375, 48.16608541901253], [-124.541015625, 48.45835188280866], [-124.5849609375, 47.87214396888731], [-124.1015625, 47.07012182383309], [-123.96972656249999, 46.10370875598026], [-124.541015625, 42.97250158602597], [-124.1455078125, 41.77131167976407], [-124.365234375, 40.94671366508002], [-124.365234375, 40.3130432088809], [-123.662109375, 38.993572058209466], [-122.51953124999999, 37.85750715625203], [-122.03613281249999, 37.125286284966805], [-121.9482421875, 36.56260003738545], [-120.5419921875, 34.415973384481866], [-118.7841796875, 34.08906131584994], [-117.72949218749999, 33.7243396617476], [-117.158203125, 32.62087018318113], [-114.78515624999999, 32.76880048488168], [-111.005859375, 31.466153715024294], [-108.10546875, 31.466153715024294], [-107.9736328125, 31.80289258670676], [-106.5234375, 31.765537409484374], [-103.0078125, 32.10118973232094], [-103.1396484375, 37.125286284966805], [-102.568359375, 37.19533058280065], [-101.7333984375, 40.97989806962013], [-104.0185546875, 41.07935114946899], [-104.3701171875, 49.03786794532644]]], &quot;type&quot;: &quot;Polygon&quot;}, &quot;properties&quot;: {&quot;name&quot;: &quot;West&quot;}, &quot;type&quot;: &quot;Feature&quot;}], &quot;type&quot;: &quot;FeatureCollection&quot;});\n",
       "\n",
       "        \n",
       "    \n",
       "    var color_map_a48c3bb59bea990ff1e73c5a0c96a945 = {};\n",
       "\n",
       "    \n",
       "    color_map_a48c3bb59bea990ff1e73c5a0c96a945.color = d3.scale.threshold()\n",
       "              .domain([1629.8335, 1684.966820240481, 1740.100140480962, 1795.233460721443, 1850.3667809619237, 1905.5001012024047, 1960.6334214428857, 2015.7667416833667, 2070.9000619238477, 2126.0333821643285, 2181.1667024048093, 2236.3000226452905, 2291.4333428857717, 2346.5666631262525, 2401.6999833667332, 2456.8333036072145, 2511.9666238476952, 2567.099944088176, 2622.2332643286572, 2677.3665845691385, 2732.499904809619, 2787.6332250501, 2842.7665452905812, 2897.899865531062, 2953.0331857715432, 3008.166506012024, 3063.299826252505, 3118.433146492986, 3173.5664667334668, 3228.699786973948, 3283.8331072144288, 3338.9664274549095, 3394.0997476953908, 3449.233067935872, 3504.3663881763523, 3559.4997084168335, 3614.6330286573148, 3669.7663488977955, 3724.8996691382763, 3780.0329893787575, 3835.166309619238, 3890.299629859719, 3945.4329501002003, 4000.5662703406815, 4055.699590581162, 4110.832910821643, 4165.966231062124, 4221.0995513026055, 4276.232871543087, 4331.366191783567, 4386.499512024048, 4441.632832264529, 4496.76615250501, 4551.899472745491, 4607.032792985972, 4662.166113226453, 4717.299433466934, 4772.432753707415, 4827.566073947895, 4882.699394188377, 4937.832714428858, 4992.966034669338, 5048.099354909819, 5103.232675150301, 5158.365995390782, 5213.499315631263, 5268.632635871743, 5323.765956112225, 5378.899276352705, 5434.032596593186, 5489.165916833667, 5544.299237074149, 5599.432557314629, 5654.56587755511, 5709.699197795591, 5764.832518036072, 5819.965838276553, 5875.099158517034, 5930.232478757515, 5985.365798997996, 6040.499119238476, 6095.632439478957, 6150.765759719438, 6205.89907995992, 6261.0324002004, 6316.165720440881, 6371.299040681362, 6426.432360921844, 6481.565681162324, 6536.699001402805, 6591.832321643286, 6646.965641883768, 6702.098962124248, 6757.232282364729, 6812.36560260521, 6867.498922845692, 6922.632243086173, 6977.765563326653, 7032.898883567133, 7088.032203807615, 7143.165524048096, 7198.298844288576, 7253.432164529057, 7308.565484769539, 7363.69880501002, 7418.8321252505, 7473.965445490981, 7529.098765731463, 7584.232085971944, 7639.365406212424, 7694.498726452905, 7749.632046693387, 7804.765366933868, 7859.898687174349, 7915.032007414829, 7970.165327655311, 8025.298647895791, 8080.431968136272, 8135.5652883767525, 8190.698608617234, 8245.831928857715, 8300.965249098197, 8356.098569338677, 8411.231889579158, 8466.36520981964, 8521.49853006012, 8576.6318503006, 8631.765170541083, 8686.898490781563, 8742.031811022045, 8797.165131262525, 8852.298451503006, 8907.431771743488, 8962.565091983968, 9017.698412224448, 9072.831732464929, 9127.965052705411, 9183.098372945891, 9238.231693186373, 9293.365013426854, 9348.498333667334, 9403.631653907816, 9458.764974148296, 9513.898294388777, 9569.031614629259, 9624.16493486974, 9679.298255110221, 9734.431575350702, 9789.564895591182, 9844.698215831664, 9899.831536072144, 9954.964856312627, 10010.098176553107, 10065.231496793587, 10120.36481703407, 10175.49813727455, 10230.631457515032, 10285.764777755512, 10340.898097995992, 10396.031418236473, 10451.164738476953, 10506.298058717435, 10561.431378957916, 10616.564699198398, 10671.698019438878, 10726.83133967936, 10781.96465991984, 10837.09798016032, 10892.231300400801, 10947.364620641283, 11002.497940881763, 11057.631261122246, 11112.764581362726, 11167.897901603208, 11223.031221843688, 11278.164542084169, 11333.297862324649, 11388.431182565131, 11443.564502805611, 11498.697823046092, 11553.831143286574, 11608.964463527054, 11664.097783767536, 11719.231104008017, 11774.364424248497, 11829.497744488977, 11884.63106472946, 11939.76438496994, 11994.897705210422, 12050.031025450902, 12105.164345691384, 12160.297665931865, 12215.430986172347, 12270.564306412825, 12325.697626653307, 12380.830946893788, 12435.964267134268, 12491.09758737475, 12546.23090761523, 12601.364227855713, 12656.497548096193, 12711.630868336673, 12766.764188577154, 12821.897508817636, 12877.030829058116, 12932.164149298598, 12987.297469539079, 13042.43078977956, 13097.564110020041, 13152.697430260523, 13207.830750501002, 13262.964070741484, 13318.097390981964, 13373.230711222446, 13428.364031462927, 13483.497351703407, 13538.630671943889, 13593.76399218437, 13648.89731242485, 13704.03063266533, 13759.163952905812, 13814.297273146292, 13869.430593386774, 13924.563913627255, 13979.697233867737, 14034.830554108217, 14089.9638743487, 14145.097194589178, 14200.23051482966, 14255.36383507014, 14310.497155310622, 14365.630475551103, 14420.763795791583, 14475.897116032065, 14531.030436272546, 14586.163756513026, 14641.297076753506, 14696.430396993988, 14751.563717234469, 14806.69703747495, 14861.830357715431, 14916.963677955913, 14972.096998196394, 15027.230318436876, 15082.363638677354, 15137.496958917836, 15192.630279158317, 15247.763599398799, 15302.896919639279, 15358.030239879761, 15413.163560120242, 15468.296880360722, 15523.430200601202, 15578.563520841682, 15633.696841082165, 15688.830161322645, 15743.963481563127, 15799.096801803607, 15854.23012204409, 15909.36344228457, 15964.496762525052, 16019.63008276553, 16074.763403006013, 16129.896723246493, 16185.030043486975, 16240.163363727455, 16295.296683967937, 16350.430004208418, 16405.563324448896, 16460.69664468938, 16515.829964929857, 16570.96328517034, 16626.09660541082, 16681.229925651303, 16736.363245891782, 16791.496566132264, 16846.629886372746, 16901.76320661323, 16956.896526853707, 17012.02984709419, 17067.163167334667, 17122.29648757515, 17177.42980781563, 17232.563128056114, 17287.696448296592, 17342.829768537074, 17397.963088777553, 17453.096409018035, 17508.229729258517, 17563.363049498996, 17618.496369739478, 17673.62968997996, 17728.763010220442, 17783.89633046092, 17839.029650701403, 17894.16297094188, 17949.296291182363, 18004.429611422845, 18059.562931663328, 18114.69625190381, 18169.82957214429, 18224.96289238477, 18280.096212625253, 18335.22953286573, 18390.362853106213, 18445.496173346695, 18500.629493587174, 18555.762813827656, 18610.896134068138, 18666.029454308617, 18721.1627745491, 18776.296094789577, 18831.429415030063, 18886.56273527054, 18941.696055511024, 18996.829375751502, 19051.962695991984, 19107.096016232466, 19162.229336472945, 19217.362656713427, 19272.495976953905, 19327.62929719439, 19382.76261743487, 19437.895937675352, 19493.02925791583, 19548.162578156313, 19603.295898396795, 19658.429218637273, 19713.562538877755, 19768.695859118237, 19823.82917935872, 19878.962499599198, 19934.09581983968, 19989.229140080162, 20044.36246032064, 20099.495780561123, 20154.6291008016, 20209.762421042087, 20264.895741282566, 20320.029061523048, 20375.162381763526, 20430.29570200401, 20485.42902224449, 20540.56234248497, 20595.69566272545, 20650.82898296593, 20705.962303206416, 20761.095623446894, 20816.228943687376, 20871.362263927855, 20926.495584168337, 20981.62890440882, 21036.762224649297, 21091.89554488978, 21147.02886513026, 21202.162185370744, 21257.295505611222, 21312.428825851704, 21367.562146092183, 21422.695466332665, 21477.828786573147, 21532.962106813626, 21588.095427054108, 21643.22874729459, 21698.362067535072, 21753.49538777555, 21808.628708016033, 21863.762028256515, 21918.895348496993, 21974.028668737476, 22029.161988977954, 22084.29530921844, 22139.42862945892, 22194.5619496994, 22249.69526993988, 22304.82859018036, 22359.961910420843, 22415.09523066132, 22470.228550901804, 22525.361871142282, 22580.495191382768, 22635.628511623247, 22690.76183186373, 22745.895152104207, 22801.028472344693, 22856.16179258517, 22911.29511282565, 22966.428433066132, 23021.561753306614, 23076.695073547096, 23131.828393787575, 23186.961714028057, 23242.095034268536, 23297.228354509018, 23352.3616747495, 23407.49499498998, 23462.62831523046, 23517.761635470943, 23572.894955711425, 23628.028275951903, 23683.161596192385, 23738.294916432867, 23793.428236673346, 23848.561556913828, 23903.694877154307, 23958.828197394792, 24013.96151763527, 24069.094837875753, 24124.22815811623, 24179.361478356717, 24234.494798597196, 24289.628118837674, 24344.761439078156, 24399.894759318635, 24455.02807955912, 24510.1613997996, 24565.29472004008, 24620.42804028056, 24675.561360521046, 24730.694680761524, 24785.828001002003, 24840.961321242485, 24896.094641482967, 24951.22796172345, 25006.361281963927, 25061.49460220441, 25116.62792244489, 25171.76124268537, 25226.894562925852, 25282.02788316633, 25337.161203406813, 25392.294523647295, 25447.427843887777, 25502.561164128256, 25557.694484368738, 25612.82780460922, 25667.9611248497, 25723.09444509018, 25778.22776533066, 25833.361085571145, 25888.494405811623, 25943.627726052106, 25998.761046292584, 26053.89436653307, 26109.02768677355, 26164.161007014027, 26219.29432725451, 26274.427647494987, 26329.560967735473, 26384.69428797595, 26439.827608216434, 26494.960928456912, 26550.094248697398, 26605.227568937877, 26660.360889178355, 26715.494209418837, 26770.62752965932, 26825.7608498998, 26880.89417014028, 26936.027490380762, 26991.160810621244, 27046.294130861723, 27101.427451102205, 27156.560771342683, 27211.694091583166, 27266.827411823648, 27321.96073206413, 27377.09405230461, 27432.22737254509, 27487.360692785573, 27542.49401302605, 27597.627333266533, 27652.76065350701, 27707.893973747498, 27763.027293987976, 27818.160614228458, 27873.293934468937, 27928.427254709422, 27983.5605749499, 28038.69389519038, 28093.82721543086, 28148.96053567134, 28204.093855911826, 28259.227176152304, 28314.360496392786, 28369.493816633265, 28424.62713687375, 28479.76045711423, 28534.893777354708, 28590.02709759519, 28645.160417835672, 28700.293738076154, 28755.427058316633, 28810.560378557115, 28865.693698797597, 28920.827019038075, 28975.960339278558, 29031.093659519036, 29086.22697975952, 29141.3603])\n",
       "              .range([&#x27;#ffffd4ff&#x27;, &#x27;#ffffd4ff&#x27;, &#x27;#ffffd4ff&#x27;, &#x27;#ffffd4ff&#x27;, &#x27;#ffffd4ff&#x27;, &#x27;#ffffd4ff&#x27;, &#x27;#ffffd4ff&#x27;, &#x27;#ffffd4ff&#x27;, &#x27;#ffffd4ff&#x27;, &#x27;#ffffd4ff&#x27;, &#x27;#ffffd4ff&#x27;, &#x27;#ffffd4ff&#x27;, &#x27;#ffffd4ff&#x27;, &#x27;#ffffd4ff&#x27;, &#x27;#ffffd4ff&#x27;, &#x27;#ffffd4ff&#x27;, &#x27;#ffffd4ff&#x27;, &#x27;#ffffd4ff&#x27;, &#x27;#ffffd4ff&#x27;, &#x27;#ffffd4ff&#x27;, &#x27;#ffffd4ff&#x27;, &#x27;#ffffd4ff&#x27;, &#x27;#ffffd4ff&#x27;, &#x27;#ffffd4ff&#x27;, &#x27;#ffffd4ff&#x27;, &#x27;#ffffd4ff&#x27;, &#x27;#ffffd4ff&#x27;, &#x27;#ffffd4ff&#x27;, &#x27;#ffffd4ff&#x27;, &#x27;#ffffd4ff&#x27;, &#x27;#ffffd4ff&#x27;, &#x27;#ffffd4ff&#x27;, &#x27;#ffffd4ff&#x27;, &#x27;#ffffd4ff&#x27;, &#x27;#ffffd4ff&#x27;, &#x27;#ffffd4ff&#x27;, &#x27;#ffffd4ff&#x27;, &#x27;#ffffd4ff&#x27;, &#x27;#ffffd4ff&#x27;, &#x27;#ffffd4ff&#x27;, &#x27;#ffffd4ff&#x27;, &#x27;#ffffd4ff&#x27;, &#x27;#ffffd4ff&#x27;, &#x27;#ffffd4ff&#x27;, &#x27;#ffffd4ff&#x27;, &#x27;#ffffd4ff&#x27;, &#x27;#ffffd4ff&#x27;, &#x27;#ffffd4ff&#x27;, &#x27;#ffffd4ff&#x27;, &#x27;#ffffd4ff&#x27;, &#x27;#ffffd4ff&#x27;, &#x27;#ffffd4ff&#x27;, &#x27;#ffffd4ff&#x27;, &#x27;#ffffd4ff&#x27;, &#x27;#ffffd4ff&#x27;, &#x27;#ffffd4ff&#x27;, &#x27;#ffffd4ff&#x27;, &#x27;#ffffd4ff&#x27;, &#x27;#ffffd4ff&#x27;, &#x27;#ffffd4ff&#x27;, &#x27;#ffffd4ff&#x27;, &#x27;#ffffd4ff&#x27;, &#x27;#ffffd4ff&#x27;, &#x27;#ffffd4ff&#x27;, &#x27;#ffffd4ff&#x27;, &#x27;#ffffd4ff&#x27;, &#x27;#ffffd4ff&#x27;, &#x27;#ffffd4ff&#x27;, &#x27;#ffffd4ff&#x27;, &#x27;#ffffd4ff&#x27;, &#x27;#ffffd4ff&#x27;, &#x27;#ffffd4ff&#x27;, &#x27;#ffffd4ff&#x27;, &#x27;#ffffd4ff&#x27;, &#x27;#ffffd4ff&#x27;, &#x27;#ffffd4ff&#x27;, &#x27;#ffffd4ff&#x27;, &#x27;#ffffd4ff&#x27;, &#x27;#ffffd4ff&#x27;, &#x27;#ffffd4ff&#x27;, &#x27;#ffffd4ff&#x27;, &#x27;#ffffd4ff&#x27;, &#x27;#ffffd4ff&#x27;, &#x27;#ffffd4ff&#x27;, &#x27;#fee391ff&#x27;, &#x27;#fee391ff&#x27;, &#x27;#fee391ff&#x27;, &#x27;#fee391ff&#x27;, &#x27;#fee391ff&#x27;, &#x27;#fee391ff&#x27;, &#x27;#fee391ff&#x27;, &#x27;#fee391ff&#x27;, &#x27;#fee391ff&#x27;, &#x27;#fee391ff&#x27;, &#x27;#fee391ff&#x27;, &#x27;#fee391ff&#x27;, &#x27;#fee391ff&#x27;, &#x27;#fee391ff&#x27;, &#x27;#fee391ff&#x27;, &#x27;#fee391ff&#x27;, &#x27;#fee391ff&#x27;, &#x27;#fee391ff&#x27;, &#x27;#fee391ff&#x27;, &#x27;#fee391ff&#x27;, &#x27;#fee391ff&#x27;, &#x27;#fee391ff&#x27;, &#x27;#fee391ff&#x27;, &#x27;#fee391ff&#x27;, &#x27;#fee391ff&#x27;, &#x27;#fee391ff&#x27;, &#x27;#fee391ff&#x27;, &#x27;#fee391ff&#x27;, &#x27;#fee391ff&#x27;, &#x27;#fee391ff&#x27;, &#x27;#fee391ff&#x27;, &#x27;#fee391ff&#x27;, &#x27;#fee391ff&#x27;, &#x27;#fee391ff&#x27;, &#x27;#fee391ff&#x27;, &#x27;#fee391ff&#x27;, &#x27;#fee391ff&#x27;, &#x27;#fee391ff&#x27;, &#x27;#fee391ff&#x27;, &#x27;#fee391ff&#x27;, &#x27;#fee391ff&#x27;, &#x27;#fee391ff&#x27;, &#x27;#fee391ff&#x27;, &#x27;#fee391ff&#x27;, &#x27;#fee391ff&#x27;, &#x27;#fee391ff&#x27;, &#x27;#fee391ff&#x27;, &#x27;#fee391ff&#x27;, &#x27;#fee391ff&#x27;, &#x27;#fee391ff&#x27;, &#x27;#fee391ff&#x27;, &#x27;#fee391ff&#x27;, &#x27;#fee391ff&#x27;, &#x27;#fee391ff&#x27;, &#x27;#fee391ff&#x27;, &#x27;#fee391ff&#x27;, &#x27;#fee391ff&#x27;, &#x27;#fee391ff&#x27;, &#x27;#fee391ff&#x27;, &#x27;#fee391ff&#x27;, &#x27;#fee391ff&#x27;, &#x27;#fee391ff&#x27;, &#x27;#fee391ff&#x27;, &#x27;#fee391ff&#x27;, &#x27;#fee391ff&#x27;, &#x27;#fee391ff&#x27;, &#x27;#fee391ff&#x27;, &#x27;#fee391ff&#x27;, &#x27;#fee391ff&#x27;, &#x27;#fee391ff&#x27;, &#x27;#fee391ff&#x27;, &#x27;#fee391ff&#x27;, &#x27;#fee391ff&#x27;, &#x27;#fee391ff&#x27;, &#x27;#fee391ff&#x27;, &#x27;#fee391ff&#x27;, &#x27;#fee391ff&#x27;, &#x27;#fee391ff&#x27;, &#x27;#fee391ff&#x27;, &#x27;#fee391ff&#x27;, &#x27;#fee391ff&#x27;, &#x27;#fee391ff&#x27;, &#x27;#fee391ff&#x27;, &#x27;#fec44fff&#x27;, &#x27;#fec44fff&#x27;, &#x27;#fec44fff&#x27;, &#x27;#fec44fff&#x27;, &#x27;#fec44fff&#x27;, &#x27;#fec44fff&#x27;, &#x27;#fec44fff&#x27;, &#x27;#fec44fff&#x27;, &#x27;#fec44fff&#x27;, &#x27;#fec44fff&#x27;, &#x27;#fec44fff&#x27;, &#x27;#fec44fff&#x27;, &#x27;#fec44fff&#x27;, &#x27;#fec44fff&#x27;, &#x27;#fec44fff&#x27;, &#x27;#fec44fff&#x27;, &#x27;#fec44fff&#x27;, &#x27;#fec44fff&#x27;, &#x27;#fec44fff&#x27;, &#x27;#fec44fff&#x27;, &#x27;#fec44fff&#x27;, &#x27;#fec44fff&#x27;, &#x27;#fec44fff&#x27;, &#x27;#fec44fff&#x27;, &#x27;#fec44fff&#x27;, &#x27;#fec44fff&#x27;, &#x27;#fec44fff&#x27;, &#x27;#fec44fff&#x27;, &#x27;#fec44fff&#x27;, &#x27;#fec44fff&#x27;, &#x27;#fec44fff&#x27;, &#x27;#fec44fff&#x27;, &#x27;#fec44fff&#x27;, &#x27;#fec44fff&#x27;, &#x27;#fec44fff&#x27;, &#x27;#fec44fff&#x27;, &#x27;#fec44fff&#x27;, &#x27;#fec44fff&#x27;, &#x27;#fec44fff&#x27;, &#x27;#fec44fff&#x27;, &#x27;#fec44fff&#x27;, &#x27;#fec44fff&#x27;, &#x27;#fec44fff&#x27;, &#x27;#fec44fff&#x27;, &#x27;#fec44fff&#x27;, &#x27;#fec44fff&#x27;, &#x27;#fec44fff&#x27;, &#x27;#fec44fff&#x27;, &#x27;#fec44fff&#x27;, &#x27;#fec44fff&#x27;, &#x27;#fec44fff&#x27;, &#x27;#fec44fff&#x27;, &#x27;#fec44fff&#x27;, &#x27;#fec44fff&#x27;, &#x27;#fec44fff&#x27;, &#x27;#fec44fff&#x27;, &#x27;#fec44fff&#x27;, &#x27;#fec44fff&#x27;, &#x27;#fec44fff&#x27;, &#x27;#fec44fff&#x27;, &#x27;#fec44fff&#x27;, &#x27;#fec44fff&#x27;, &#x27;#fec44fff&#x27;, &#x27;#fec44fff&#x27;, &#x27;#fec44fff&#x27;, &#x27;#fec44fff&#x27;, &#x27;#fec44fff&#x27;, &#x27;#fec44fff&#x27;, &#x27;#fec44fff&#x27;, &#x27;#fec44fff&#x27;, &#x27;#fec44fff&#x27;, &#x27;#fec44fff&#x27;, &#x27;#fec44fff&#x27;, &#x27;#fec44fff&#x27;, &#x27;#fec44fff&#x27;, &#x27;#fec44fff&#x27;, &#x27;#fec44fff&#x27;, &#x27;#fec44fff&#x27;, &#x27;#fec44fff&#x27;, &#x27;#fec44fff&#x27;, &#x27;#fec44fff&#x27;, &#x27;#fec44fff&#x27;, &#x27;#fec44fff&#x27;, &#x27;#fe9929ff&#x27;, &#x27;#fe9929ff&#x27;, &#x27;#fe9929ff&#x27;, &#x27;#fe9929ff&#x27;, &#x27;#fe9929ff&#x27;, &#x27;#fe9929ff&#x27;, &#x27;#fe9929ff&#x27;, &#x27;#fe9929ff&#x27;, &#x27;#fe9929ff&#x27;, &#x27;#fe9929ff&#x27;, &#x27;#fe9929ff&#x27;, &#x27;#fe9929ff&#x27;, &#x27;#fe9929ff&#x27;, &#x27;#fe9929ff&#x27;, &#x27;#fe9929ff&#x27;, &#x27;#fe9929ff&#x27;, &#x27;#fe9929ff&#x27;, &#x27;#fe9929ff&#x27;, &#x27;#fe9929ff&#x27;, &#x27;#fe9929ff&#x27;, &#x27;#fe9929ff&#x27;, &#x27;#fe9929ff&#x27;, &#x27;#fe9929ff&#x27;, &#x27;#fe9929ff&#x27;, &#x27;#fe9929ff&#x27;, &#x27;#fe9929ff&#x27;, &#x27;#fe9929ff&#x27;, &#x27;#fe9929ff&#x27;, &#x27;#fe9929ff&#x27;, &#x27;#fe9929ff&#x27;, &#x27;#fe9929ff&#x27;, &#x27;#fe9929ff&#x27;, &#x27;#fe9929ff&#x27;, &#x27;#fe9929ff&#x27;, &#x27;#fe9929ff&#x27;, &#x27;#fe9929ff&#x27;, &#x27;#fe9929ff&#x27;, &#x27;#fe9929ff&#x27;, &#x27;#fe9929ff&#x27;, &#x27;#fe9929ff&#x27;, &#x27;#fe9929ff&#x27;, &#x27;#fe9929ff&#x27;, &#x27;#fe9929ff&#x27;, &#x27;#fe9929ff&#x27;, &#x27;#fe9929ff&#x27;, &#x27;#fe9929ff&#x27;, &#x27;#fe9929ff&#x27;, &#x27;#fe9929ff&#x27;, &#x27;#fe9929ff&#x27;, &#x27;#fe9929ff&#x27;, &#x27;#fe9929ff&#x27;, &#x27;#fe9929ff&#x27;, &#x27;#fe9929ff&#x27;, &#x27;#fe9929ff&#x27;, &#x27;#fe9929ff&#x27;, &#x27;#fe9929ff&#x27;, &#x27;#fe9929ff&#x27;, &#x27;#fe9929ff&#x27;, &#x27;#fe9929ff&#x27;, &#x27;#fe9929ff&#x27;, &#x27;#fe9929ff&#x27;, &#x27;#fe9929ff&#x27;, &#x27;#fe9929ff&#x27;, &#x27;#fe9929ff&#x27;, &#x27;#fe9929ff&#x27;, &#x27;#fe9929ff&#x27;, &#x27;#fe9929ff&#x27;, &#x27;#fe9929ff&#x27;, &#x27;#fe9929ff&#x27;, &#x27;#fe9929ff&#x27;, &#x27;#fe9929ff&#x27;, &#x27;#fe9929ff&#x27;, &#x27;#fe9929ff&#x27;, &#x27;#fe9929ff&#x27;, &#x27;#fe9929ff&#x27;, &#x27;#fe9929ff&#x27;, &#x27;#fe9929ff&#x27;, &#x27;#fe9929ff&#x27;, &#x27;#fe9929ff&#x27;, &#x27;#fe9929ff&#x27;, &#x27;#fe9929ff&#x27;, &#x27;#fe9929ff&#x27;, &#x27;#fe9929ff&#x27;, &#x27;#d95f0eff&#x27;, &#x27;#d95f0eff&#x27;, &#x27;#d95f0eff&#x27;, &#x27;#d95f0eff&#x27;, &#x27;#d95f0eff&#x27;, &#x27;#d95f0eff&#x27;, &#x27;#d95f0eff&#x27;, &#x27;#d95f0eff&#x27;, &#x27;#d95f0eff&#x27;, &#x27;#d95f0eff&#x27;, &#x27;#d95f0eff&#x27;, &#x27;#d95f0eff&#x27;, &#x27;#d95f0eff&#x27;, &#x27;#d95f0eff&#x27;, &#x27;#d95f0eff&#x27;, &#x27;#d95f0eff&#x27;, &#x27;#d95f0eff&#x27;, &#x27;#d95f0eff&#x27;, &#x27;#d95f0eff&#x27;, &#x27;#d95f0eff&#x27;, &#x27;#d95f0eff&#x27;, &#x27;#d95f0eff&#x27;, &#x27;#d95f0eff&#x27;, &#x27;#d95f0eff&#x27;, &#x27;#d95f0eff&#x27;, &#x27;#d95f0eff&#x27;, &#x27;#d95f0eff&#x27;, &#x27;#d95f0eff&#x27;, &#x27;#d95f0eff&#x27;, &#x27;#d95f0eff&#x27;, &#x27;#d95f0eff&#x27;, &#x27;#d95f0eff&#x27;, &#x27;#d95f0eff&#x27;, &#x27;#d95f0eff&#x27;, &#x27;#d95f0eff&#x27;, &#x27;#d95f0eff&#x27;, &#x27;#d95f0eff&#x27;, &#x27;#d95f0eff&#x27;, &#x27;#d95f0eff&#x27;, &#x27;#d95f0eff&#x27;, &#x27;#d95f0eff&#x27;, &#x27;#d95f0eff&#x27;, &#x27;#d95f0eff&#x27;, &#x27;#d95f0eff&#x27;, &#x27;#d95f0eff&#x27;, &#x27;#d95f0eff&#x27;, &#x27;#d95f0eff&#x27;, &#x27;#d95f0eff&#x27;, &#x27;#d95f0eff&#x27;, &#x27;#d95f0eff&#x27;, &#x27;#d95f0eff&#x27;, &#x27;#d95f0eff&#x27;, &#x27;#d95f0eff&#x27;, &#x27;#d95f0eff&#x27;, &#x27;#d95f0eff&#x27;, &#x27;#d95f0eff&#x27;, &#x27;#d95f0eff&#x27;, &#x27;#d95f0eff&#x27;, &#x27;#d95f0eff&#x27;, &#x27;#d95f0eff&#x27;, &#x27;#d95f0eff&#x27;, &#x27;#d95f0eff&#x27;, &#x27;#d95f0eff&#x27;, &#x27;#d95f0eff&#x27;, &#x27;#d95f0eff&#x27;, &#x27;#d95f0eff&#x27;, &#x27;#d95f0eff&#x27;, &#x27;#d95f0eff&#x27;, &#x27;#d95f0eff&#x27;, &#x27;#d95f0eff&#x27;, &#x27;#d95f0eff&#x27;, &#x27;#d95f0eff&#x27;, &#x27;#d95f0eff&#x27;, &#x27;#d95f0eff&#x27;, &#x27;#d95f0eff&#x27;, &#x27;#d95f0eff&#x27;, &#x27;#d95f0eff&#x27;, &#x27;#d95f0eff&#x27;, &#x27;#d95f0eff&#x27;, &#x27;#d95f0eff&#x27;, &#x27;#d95f0eff&#x27;, &#x27;#d95f0eff&#x27;, &#x27;#d95f0eff&#x27;, &#x27;#993404ff&#x27;, &#x27;#993404ff&#x27;, &#x27;#993404ff&#x27;, &#x27;#993404ff&#x27;, &#x27;#993404ff&#x27;, &#x27;#993404ff&#x27;, &#x27;#993404ff&#x27;, &#x27;#993404ff&#x27;, &#x27;#993404ff&#x27;, &#x27;#993404ff&#x27;, &#x27;#993404ff&#x27;, &#x27;#993404ff&#x27;, &#x27;#993404ff&#x27;, &#x27;#993404ff&#x27;, &#x27;#993404ff&#x27;, &#x27;#993404ff&#x27;, &#x27;#993404ff&#x27;, &#x27;#993404ff&#x27;, &#x27;#993404ff&#x27;, &#x27;#993404ff&#x27;, &#x27;#993404ff&#x27;, &#x27;#993404ff&#x27;, &#x27;#993404ff&#x27;, &#x27;#993404ff&#x27;, &#x27;#993404ff&#x27;, &#x27;#993404ff&#x27;, &#x27;#993404ff&#x27;, &#x27;#993404ff&#x27;, &#x27;#993404ff&#x27;, &#x27;#993404ff&#x27;, &#x27;#993404ff&#x27;, &#x27;#993404ff&#x27;, &#x27;#993404ff&#x27;, &#x27;#993404ff&#x27;, &#x27;#993404ff&#x27;, &#x27;#993404ff&#x27;, &#x27;#993404ff&#x27;, &#x27;#993404ff&#x27;, &#x27;#993404ff&#x27;, &#x27;#993404ff&#x27;, &#x27;#993404ff&#x27;, &#x27;#993404ff&#x27;, &#x27;#993404ff&#x27;, &#x27;#993404ff&#x27;, &#x27;#993404ff&#x27;, &#x27;#993404ff&#x27;, &#x27;#993404ff&#x27;, &#x27;#993404ff&#x27;, &#x27;#993404ff&#x27;, &#x27;#993404ff&#x27;, &#x27;#993404ff&#x27;, &#x27;#993404ff&#x27;, &#x27;#993404ff&#x27;, &#x27;#993404ff&#x27;, &#x27;#993404ff&#x27;, &#x27;#993404ff&#x27;, &#x27;#993404ff&#x27;, &#x27;#993404ff&#x27;, &#x27;#993404ff&#x27;, &#x27;#993404ff&#x27;, &#x27;#993404ff&#x27;, &#x27;#993404ff&#x27;, &#x27;#993404ff&#x27;, &#x27;#993404ff&#x27;, &#x27;#993404ff&#x27;, &#x27;#993404ff&#x27;, &#x27;#993404ff&#x27;, &#x27;#993404ff&#x27;, &#x27;#993404ff&#x27;, &#x27;#993404ff&#x27;, &#x27;#993404ff&#x27;, &#x27;#993404ff&#x27;, &#x27;#993404ff&#x27;, &#x27;#993404ff&#x27;, &#x27;#993404ff&#x27;, &#x27;#993404ff&#x27;, &#x27;#993404ff&#x27;, &#x27;#993404ff&#x27;, &#x27;#993404ff&#x27;, &#x27;#993404ff&#x27;, &#x27;#993404ff&#x27;, &#x27;#993404ff&#x27;, &#x27;#993404ff&#x27;, &#x27;#993404ff&#x27;]);\n",
       "    \n",
       "\n",
       "    color_map_a48c3bb59bea990ff1e73c5a0c96a945.x = d3.scale.linear()\n",
       "              .domain([1629.8335, 29141.3603])\n",
       "              .range([0, 450 - 50]);\n",
       "\n",
       "    color_map_a48c3bb59bea990ff1e73c5a0c96a945.legend = L.control({position: &#x27;topright&#x27;});\n",
       "    color_map_a48c3bb59bea990ff1e73c5a0c96a945.legend.onAdd = function (map) {var div = L.DomUtil.create(&#x27;div&#x27;, &#x27;legend&#x27;); return div};\n",
       "    color_map_a48c3bb59bea990ff1e73c5a0c96a945.legend.addTo(map_f51f3764091e0043a6129306b78db911);\n",
       "\n",
       "    color_map_a48c3bb59bea990ff1e73c5a0c96a945.xAxis = d3.svg.axis()\n",
       "        .scale(color_map_a48c3bb59bea990ff1e73c5a0c96a945.x)\n",
       "        .orient(&quot;top&quot;)\n",
       "        .tickSize(1)\n",
       "        .tickValues([1629.8335, 6215.087966666666, 10800.342433333333, 15385.5969, 19970.851366666666, 24556.10583333333, 29141.3603]);\n",
       "\n",
       "    color_map_a48c3bb59bea990ff1e73c5a0c96a945.svg = d3.select(&quot;.legend.leaflet-control&quot;).append(&quot;svg&quot;)\n",
       "        .attr(&quot;id&quot;, &#x27;legend&#x27;)\n",
       "        .attr(&quot;width&quot;, 450)\n",
       "        .attr(&quot;height&quot;, 40);\n",
       "\n",
       "    color_map_a48c3bb59bea990ff1e73c5a0c96a945.g = color_map_a48c3bb59bea990ff1e73c5a0c96a945.svg.append(&quot;g&quot;)\n",
       "        .attr(&quot;class&quot;, &quot;key&quot;)\n",
       "        .attr(&quot;transform&quot;, &quot;translate(25,16)&quot;);\n",
       "\n",
       "    color_map_a48c3bb59bea990ff1e73c5a0c96a945.g.selectAll(&quot;rect&quot;)\n",
       "        .data(color_map_a48c3bb59bea990ff1e73c5a0c96a945.color.range().map(function(d, i) {\n",
       "          return {\n",
       "            x0: i ? color_map_a48c3bb59bea990ff1e73c5a0c96a945.x(color_map_a48c3bb59bea990ff1e73c5a0c96a945.color.domain()[i - 1]) : color_map_a48c3bb59bea990ff1e73c5a0c96a945.x.range()[0],\n",
       "            x1: i &lt; color_map_a48c3bb59bea990ff1e73c5a0c96a945.color.domain().length ? color_map_a48c3bb59bea990ff1e73c5a0c96a945.x(color_map_a48c3bb59bea990ff1e73c5a0c96a945.color.domain()[i]) : color_map_a48c3bb59bea990ff1e73c5a0c96a945.x.range()[1],\n",
       "            z: d\n",
       "          };\n",
       "        }))\n",
       "      .enter().append(&quot;rect&quot;)\n",
       "        .attr(&quot;height&quot;, 40 - 30)\n",
       "        .attr(&quot;x&quot;, function(d) { return d.x0; })\n",
       "        .attr(&quot;width&quot;, function(d) { return d.x1 - d.x0; })\n",
       "        .style(&quot;fill&quot;, function(d) { return d.z; });\n",
       "\n",
       "    color_map_a48c3bb59bea990ff1e73c5a0c96a945.g.call(color_map_a48c3bb59bea990ff1e73c5a0c96a945.xAxis).append(&quot;text&quot;)\n",
       "        .attr(&quot;class&quot;, &quot;caption&quot;)\n",
       "        .attr(&quot;y&quot;, 21)\n",
       "        .text(&quot;charges&quot;);\n",
       "    \n",
       "            var layer_control_99678220631d12afb41f8f826a5c5cfc = {\n",
       "                base_layers : {\n",
       "                    &quot;openstreetmap&quot; : tile_layer_a8f3e36576b990c1af353236044ba8b2,\n",
       "                },\n",
       "                overlays :  {\n",
       "                    &quot;macro_element_eaa624c83eb9e364691c5c82b29005f0&quot; : choropleth_eaa624c83eb9e364691c5c82b29005f0,\n",
       "                },\n",
       "            };\n",
       "            L.control.layers(\n",
       "                layer_control_99678220631d12afb41f8f826a5c5cfc.base_layers,\n",
       "                layer_control_99678220631d12afb41f8f826a5c5cfc.overlays,\n",
       "                {&quot;autoZIndex&quot;: true, &quot;collapsed&quot;: true, &quot;position&quot;: &quot;topright&quot;}\n",
       "            ).addTo(map_f51f3764091e0043a6129306b78db911);\n",
       "        \n",
       "&lt;/script&gt;\n",
       "&lt;/html&gt;\" style=\"position:absolute;width:100%;height:100%;left:0;top:0;border:none !important;\" allowfullscreen webkitallowfullscreen mozallowfullscreen></iframe></div></div>"
      ],
      "text/plain": [
       "<folium.folium.Map at 0x1a4182b20a0>"
      ]
     },
     "execution_count": 29,
     "metadata": {},
     "output_type": "execute_result"
    }
   ],
   "source": [
    "# plot choropleth map\n",
    "map = folium.Map(location = [38.58,-99.09], zoom_start = 4, titles =\"Stamen Terrain\")\n",
    "\n",
    "folium.Choropleth(\n",
    "geo_data = jpath,\n",
    "data = data_to_plot,\n",
    "columns =['region','charges'],\n",
    "key_on ='feature.properties.name',\n",
    "fill_color = 'YlOrBr', fill_opacity=0.6, line_opacity=0.1,\n",
    "    \n",
    "legend_name =\"charges\").add_to(map)\n",
    "\n",
    "folium.LayerControl().add_to(map)\n",
    "\n",
    "map\n"
   ]
  },
  {
   "cell_type": "markdown",
   "id": "2146b59b",
   "metadata": {},
   "source": [
    "### This map doesn't answer any of my questions"
   ]
  },
  {
   "cell_type": "code",
   "execution_count": null,
   "id": "23fc0dd7",
   "metadata": {},
   "outputs": [],
   "source": []
  }
 ],
 "metadata": {
  "kernelspec": {
   "display_name": "Python 3 (ipykernel)",
   "language": "python",
   "name": "python3"
  },
  "language_info": {
   "codemirror_mode": {
    "name": "ipython",
    "version": 3
   },
   "file_extension": ".py",
   "mimetype": "text/x-python",
   "name": "python",
   "nbconvert_exporter": "python",
   "pygments_lexer": "ipython3",
   "version": "3.9.13"
  }
 },
 "nbformat": 4,
 "nbformat_minor": 5
}
